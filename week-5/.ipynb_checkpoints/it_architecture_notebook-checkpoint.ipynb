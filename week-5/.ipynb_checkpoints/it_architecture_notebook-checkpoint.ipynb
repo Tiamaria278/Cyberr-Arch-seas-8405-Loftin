{
 "cells": [
  {
   "cell_type": "markdown",
   "id": "eefa7a6b",
   "metadata": {},
   "source": [
    "## 1. Web Service (e.g., Nginx, Apache)"
   ]
  },
  {
   "cell_type": "markdown",
   "id": "acc58c07",
   "metadata": {},
   "source": [
    "### Web Service Architecture\n",
    "\n",
    "\n",
    "A **Web Service** allows users to access websites or web applications through HTTP/HTTPS protocols. Popular implementations include **Nginx** (pronounced \"Engine-X\") and **Apache HTTP Server**.\n",
    "\n",
    "- **Nginx** is a high-performance, event-driven web server known for its scalability and load balancing.\n",
    "- **Apache HTTP Server** is a widely-used, process-driven web server known for flexibility and extensive module support.\n",
    "\n",
    "### Flow of Operations\n",
    "1. The **user's browser** sends a request to a domain.\n",
    "2. The request is routed through **DNS** to the server's IP address.\n",
    "3. The **load balancer** may distribute the request to one of several web servers.\n",
    "4. The **web server** (Nginx or Apache) processes the request:\n",
    "   - It may serve static files (HTML, CSS, JS)\n",
    "   - Or forward dynamic requests to an app server (like Node.js, PHP)\n",
    "5. The response is sent back to the user.\n",
    "\n",
    "### References\n",
    "- [Nginx Official Docs](https://nginx.org/en/docs/)\n",
    "- [Apache HTTP Server Docs](https://httpd.apache.org/docs/)\n",
    "- [How Web Servers Work](https://developer.mozilla.org/en-US/docs/Learn/Common_questions/Web_mechanics/How_does_the_Internet_work)\n"
   ]
  },
  {
   "cell_type": "markdown",
   "id": "02c7a768",
   "metadata": {},
   "source": [
    "## Architecture Diagram for Web Service"
   ]
  },
  {
   "cell_type": "code",
   "execution_count": null,
   "id": "76e7641e",
   "metadata": {},
   "outputs": [],
   "source": [
    "\n",
    "from graphviz import Digraph\n",
    "from IPython.display import Image\n",
    "\n",
    "dot = Digraph(\"Web_Service\", format='png')\n",
    "dot.attr(label=\"Web Service Architecture\", fontsize='16', labelloc='t')\n",
    "\n",
    "dot.node(\"User\", \"User (Browser)\", shape=\"oval\")\n",
    "dot.node(\"DNS\", \"DNS Resolver\", shape=\"parallelogram\")\n",
    "dot.node(\"LB\", \"Load Balancer\", shape=\"box\")\n",
    "dot.node(\"WS1\", \"Web Server 1 (Nginx)\", shape=\"component\")\n",
    "dot.node(\"WS2\", \"Web Server 2 (Apache)\", shape=\"component\")\n",
    "dot.node(\"Static\", \"Static Content\", shape=\"folder\")\n",
    "dot.node(\"App\", \"Application Server\", shape=\"component\")\n",
    "\n",
    "dot.edges([(\"User\", \"DNS\"), (\"DNS\", \"LB\")])\n",
    "dot.edge(\"LB\", \"WS1\")\n",
    "dot.edge(\"LB\", \"WS2\")\n",
    "dot.edge(\"WS1\", \"Static\")\n",
    "dot.edge(\"WS2\", \"App\")\n",
    "\n",
    "filename = \"/mnt/data/Web_Service_diagram\"\n",
    "dot.render(filename, format='png', cleanup=False)\n",
    "Image(filename=f\"{filename}.png\")\n"
   ]
  },
  {
   "cell_type": "markdown",
   "id": "f408a177",
   "metadata": {},
   "source": [
    "## Placeholder Cell 5"
   ]
  },
  {
   "cell_type": "code",
   "execution_count": null,
   "id": "cae3211b",
   "metadata": {},
   "outputs": [],
   "source": [
    "# TODO: Add code or notes here"
   ]
  },
  {
   "cell_type": "markdown",
   "id": "a3671df0",
   "metadata": {},
   "source": [
    "## Placeholder Cell 6"
   ]
  },
  {
   "cell_type": "code",
   "execution_count": null,
   "id": "4cf26840",
   "metadata": {},
   "outputs": [],
   "source": [
    "# TODO: Add code or notes here"
   ]
  },
  {
   "cell_type": "markdown",
   "id": "ca77fc1f",
   "metadata": {},
   "source": [
    "## Placeholder Cell 7"
   ]
  },
  {
   "cell_type": "code",
   "execution_count": null,
   "id": "7b66103c",
   "metadata": {},
   "outputs": [],
   "source": [
    "# TODO: Add code or notes here"
   ]
  },
  {
   "cell_type": "markdown",
   "id": "afd56834",
   "metadata": {},
   "source": [
    "## Placeholder Cell 8"
   ]
  },
  {
   "cell_type": "code",
   "execution_count": null,
   "id": "53b27a2f",
   "metadata": {},
   "outputs": [],
   "source": [
    "# TODO: Add code or notes here"
   ]
  },
  {
   "cell_type": "markdown",
   "id": "f11b3fec",
   "metadata": {},
   "source": [
    "## Placeholder Cell 9"
   ]
  },
  {
   "cell_type": "code",
   "execution_count": null,
   "id": "96331767",
   "metadata": {},
   "outputs": [],
   "source": [
    "# TODO: Add code or notes here"
   ]
  },
  {
   "cell_type": "markdown",
   "id": "86c31186",
   "metadata": {},
   "source": [
    "## Placeholder Cell 10"
   ]
  },
  {
   "cell_type": "code",
   "execution_count": null,
   "id": "df9e899d",
   "metadata": {},
   "outputs": [],
   "source": [
    "# TODO: Add code or notes here"
   ]
  },
  {
   "cell_type": "markdown",
   "id": "c5647f65",
   "metadata": {},
   "source": [
    "## Placeholder Cell 11"
   ]
  },
  {
   "cell_type": "code",
   "execution_count": null,
   "id": "17332240",
   "metadata": {},
   "outputs": [],
   "source": [
    "# TODO: Add code or notes here"
   ]
  },
  {
   "cell_type": "markdown",
   "id": "98573f18",
   "metadata": {},
   "source": [
    "## Placeholder Cell 12"
   ]
  },
  {
   "cell_type": "code",
   "execution_count": null,
   "id": "962708b0",
   "metadata": {},
   "outputs": [],
   "source": [
    "# TODO: Add code or notes here"
   ]
  },
  {
   "cell_type": "markdown",
   "id": "266c213f",
   "metadata": {},
   "source": [
    "## Placeholder Cell 13"
   ]
  },
  {
   "cell_type": "code",
   "execution_count": null,
   "id": "e9783e29",
   "metadata": {},
   "outputs": [],
   "source": [
    "# TODO: Add code or notes here"
   ]
  },
  {
   "cell_type": "markdown",
   "id": "b8b76dc9",
   "metadata": {},
   "source": [
    "## Placeholder Cell 14"
   ]
  },
  {
   "cell_type": "code",
   "execution_count": null,
   "id": "4973b157",
   "metadata": {},
   "outputs": [],
   "source": [
    "# TODO: Add code or notes here"
   ]
  },
  {
   "cell_type": "markdown",
   "id": "93a31b69",
   "metadata": {},
   "source": [
    "## Placeholder Cell 15"
   ]
  },
  {
   "cell_type": "code",
   "execution_count": null,
   "id": "e88b0203",
   "metadata": {},
   "outputs": [],
   "source": [
    "# TODO: Add code or notes here"
   ]
  },
  {
   "cell_type": "markdown",
   "id": "338be68b",
   "metadata": {},
   "source": [
    "## Placeholder Cell 16"
   ]
  },
  {
   "cell_type": "code",
   "execution_count": null,
   "id": "9404b0b9",
   "metadata": {},
   "outputs": [],
   "source": [
    "# TODO: Add code or notes here"
   ]
  },
  {
   "cell_type": "markdown",
   "id": "85380191",
   "metadata": {},
   "source": [
    "## Placeholder Cell 17"
   ]
  },
  {
   "cell_type": "code",
   "execution_count": null,
   "id": "73c1613e",
   "metadata": {},
   "outputs": [],
   "source": [
    "# TODO: Add code or notes here"
   ]
  },
  {
   "cell_type": "markdown",
   "id": "167d9ac8",
   "metadata": {},
   "source": [
    "## Placeholder Cell 18"
   ]
  },
  {
   "cell_type": "code",
   "execution_count": null,
   "id": "d3142bdc",
   "metadata": {},
   "outputs": [],
   "source": [
    "# TODO: Add code or notes here"
   ]
  },
  {
   "cell_type": "markdown",
   "id": "978753bb",
   "metadata": {},
   "source": [
    "## Placeholder Cell 19"
   ]
  },
  {
   "cell_type": "code",
   "execution_count": null,
   "id": "0b410727",
   "metadata": {},
   "outputs": [],
   "source": [
    "# TODO: Add code or notes here"
   ]
  },
  {
   "cell_type": "markdown",
   "id": "a6e5fcdb",
   "metadata": {},
   "source": [
    "## Placeholder Cell 20"
   ]
  },
  {
   "cell_type": "code",
   "execution_count": null,
   "id": "7f66ceba",
   "metadata": {},
   "outputs": [],
   "source": [
    "# TODO: Add code or notes here"
   ]
  },
  {
   "cell_type": "markdown",
   "id": "b996ae32",
   "metadata": {},
   "source": [
    "## Placeholder Cell 21"
   ]
  },
  {
   "cell_type": "code",
   "execution_count": null,
   "id": "1eaf9294",
   "metadata": {},
   "outputs": [],
   "source": [
    "# TODO: Add code or notes here"
   ]
  },
  {
   "cell_type": "markdown",
   "id": "9a0dfdae",
   "metadata": {},
   "source": [
    "## Placeholder Cell 22"
   ]
  },
  {
   "cell_type": "code",
   "execution_count": null,
   "id": "43e8546f",
   "metadata": {},
   "outputs": [],
   "source": [
    "# TODO: Add code or notes here"
   ]
  },
  {
   "cell_type": "markdown",
   "id": "c2d8181d",
   "metadata": {},
   "source": [
    "## Placeholder Cell 23"
   ]
  },
  {
   "cell_type": "code",
   "execution_count": null,
   "id": "04e084eb",
   "metadata": {},
   "outputs": [],
   "source": [
    "# TODO: Add code or notes here"
   ]
  },
  {
   "cell_type": "markdown",
   "id": "e1c0d654",
   "metadata": {},
   "source": [
    "## Placeholder Cell 24"
   ]
  },
  {
   "cell_type": "code",
   "execution_count": null,
   "id": "bbf027b5",
   "metadata": {},
   "outputs": [],
   "source": [
    "# TODO: Add code or notes here"
   ]
  },
  {
   "cell_type": "markdown",
   "id": "abec5c8e",
   "metadata": {},
   "source": [
    "## Placeholder Cell 25"
   ]
  },
  {
   "cell_type": "code",
   "execution_count": null,
   "id": "c5ac9776",
   "metadata": {},
   "outputs": [],
   "source": [
    "# TODO: Add code or notes here"
   ]
  },
  {
   "cell_type": "markdown",
   "id": "9870b5a4",
   "metadata": {},
   "source": [
    "## Placeholder Cell 26"
   ]
  },
  {
   "cell_type": "code",
   "execution_count": null,
   "id": "706878ad",
   "metadata": {},
   "outputs": [],
   "source": [
    "# TODO: Add code or notes here"
   ]
  },
  {
   "cell_type": "markdown",
   "id": "b4293ae6",
   "metadata": {},
   "source": [
    "## Placeholder Cell 27"
   ]
  },
  {
   "cell_type": "code",
   "execution_count": null,
   "id": "291b17d8",
   "metadata": {},
   "outputs": [],
   "source": [
    "# TODO: Add code or notes here"
   ]
  },
  {
   "cell_type": "markdown",
   "id": "5b3ace14",
   "metadata": {},
   "source": [
    "## Placeholder Cell 28"
   ]
  },
  {
   "cell_type": "code",
   "execution_count": null,
   "id": "433d34a6",
   "metadata": {},
   "outputs": [],
   "source": [
    "# TODO: Add code or notes here"
   ]
  },
  {
   "cell_type": "markdown",
   "id": "c59f507b",
   "metadata": {},
   "source": [
    "## Placeholder Cell 29"
   ]
  },
  {
   "cell_type": "code",
   "execution_count": null,
   "id": "e8ebb99d",
   "metadata": {},
   "outputs": [],
   "source": [
    "# TODO: Add code or notes here"
   ]
  },
  {
   "cell_type": "markdown",
   "id": "1a92fc58",
   "metadata": {},
   "source": [
    "## Placeholder Cell 30"
   ]
  },
  {
   "cell_type": "code",
   "execution_count": null,
   "id": "6fd14b10",
   "metadata": {},
   "outputs": [],
   "source": [
    "# TODO: Add code or notes here"
   ]
  },
  {
   "cell_type": "markdown",
   "id": "ef47c447",
   "metadata": {},
   "source": [
    "## Placeholder Cell 31"
   ]
  },
  {
   "cell_type": "code",
   "execution_count": null,
   "id": "35cf562b",
   "metadata": {},
   "outputs": [],
   "source": [
    "# TODO: Add code or notes here"
   ]
  },
  {
   "cell_type": "markdown",
   "id": "b7d4173a",
   "metadata": {},
   "source": [
    "## Placeholder Cell 32"
   ]
  },
  {
   "cell_type": "code",
   "execution_count": null,
   "id": "5e15a6c3",
   "metadata": {},
   "outputs": [],
   "source": [
    "# TODO: Add code or notes here"
   ]
  },
  {
   "cell_type": "markdown",
   "id": "12a3a5da",
   "metadata": {},
   "source": [
    "## Placeholder Cell 33"
   ]
  },
  {
   "cell_type": "code",
   "execution_count": null,
   "id": "9ba99e38",
   "metadata": {},
   "outputs": [],
   "source": [
    "# TODO: Add code or notes here"
   ]
  },
  {
   "cell_type": "markdown",
   "id": "1ab85269",
   "metadata": {},
   "source": [
    "## Placeholder Cell 34"
   ]
  },
  {
   "cell_type": "code",
   "execution_count": null,
   "id": "0f7ae26e",
   "metadata": {},
   "outputs": [],
   "source": [
    "# TODO: Add code or notes here"
   ]
  },
  {
   "cell_type": "markdown",
   "id": "fc0facbc",
   "metadata": {},
   "source": [
    "## Placeholder Cell 35"
   ]
  },
  {
   "cell_type": "code",
   "execution_count": null,
   "id": "0e6f4f47",
   "metadata": {},
   "outputs": [],
   "source": [
    "# TODO: Add code or notes here"
   ]
  },
  {
   "cell_type": "markdown",
   "id": "45dd02d8",
   "metadata": {},
   "source": [
    "## Placeholder Cell 36"
   ]
  },
  {
   "cell_type": "code",
   "execution_count": null,
   "id": "39286c85",
   "metadata": {},
   "outputs": [],
   "source": [
    "# TODO: Add code or notes here"
   ]
  },
  {
   "cell_type": "markdown",
   "id": "43e9eef7",
   "metadata": {},
   "source": [
    "## Placeholder Cell 37"
   ]
  },
  {
   "cell_type": "code",
   "execution_count": null,
   "id": "9da7aac8",
   "metadata": {},
   "outputs": [],
   "source": [
    "# TODO: Add code or notes here"
   ]
  },
  {
   "cell_type": "markdown",
   "id": "f0997750",
   "metadata": {},
   "source": [
    "## Placeholder Cell 38"
   ]
  },
  {
   "cell_type": "code",
   "execution_count": null,
   "id": "c37f8b9a",
   "metadata": {},
   "outputs": [],
   "source": [
    "# TODO: Add code or notes here"
   ]
  },
  {
   "cell_type": "markdown",
   "id": "af2e4157",
   "metadata": {},
   "source": [
    "## Placeholder Cell 39"
   ]
  },
  {
   "cell_type": "code",
   "execution_count": null,
   "id": "1ce6abc9",
   "metadata": {},
   "outputs": [],
   "source": [
    "# TODO: Add code or notes here"
   ]
  },
  {
   "cell_type": "markdown",
   "id": "bacf7395",
   "metadata": {},
   "source": [
    "## Placeholder Cell 40"
   ]
  },
  {
   "cell_type": "code",
   "execution_count": null,
   "id": "6f092b49",
   "metadata": {},
   "outputs": [],
   "source": [
    "# TODO: Add code or notes here"
   ]
  },
  {
   "cell_type": "markdown",
   "id": "79d4bef6",
   "metadata": {},
   "source": [
    "## Placeholder Cell 41"
   ]
  },
  {
   "cell_type": "code",
   "execution_count": null,
   "id": "54df34d8",
   "metadata": {},
   "outputs": [],
   "source": [
    "# TODO: Add code or notes here"
   ]
  },
  {
   "cell_type": "markdown",
   "id": "12bf6245",
   "metadata": {},
   "source": [
    "## Placeholder Cell 42"
   ]
  },
  {
   "cell_type": "code",
   "execution_count": null,
   "id": "db331335",
   "metadata": {},
   "outputs": [],
   "source": [
    "# TODO: Add code or notes here"
   ]
  },
  {
   "cell_type": "markdown",
   "id": "1278cf35",
   "metadata": {},
   "source": [
    "## Placeholder Cell 43"
   ]
  },
  {
   "cell_type": "code",
   "execution_count": null,
   "id": "37a48c16",
   "metadata": {},
   "outputs": [],
   "source": [
    "# TODO: Add code or notes here"
   ]
  },
  {
   "cell_type": "markdown",
   "id": "f0fc8e03",
   "metadata": {},
   "source": [
    "## Placeholder Cell 44"
   ]
  },
  {
   "cell_type": "code",
   "execution_count": null,
   "id": "f325afe5",
   "metadata": {},
   "outputs": [],
   "source": [
    "# TODO: Add code or notes here"
   ]
  },
  {
   "cell_type": "markdown",
   "id": "78024f3f",
   "metadata": {},
   "source": [
    "## Placeholder Cell 45"
   ]
  },
  {
   "cell_type": "code",
   "execution_count": null,
   "id": "bb97769f",
   "metadata": {},
   "outputs": [],
   "source": [
    "# TODO: Add code or notes here"
   ]
  },
  {
   "cell_type": "markdown",
   "id": "4d30425a",
   "metadata": {},
   "source": [
    "## Placeholder Cell 46"
   ]
  },
  {
   "cell_type": "code",
   "execution_count": null,
   "id": "ee360e52",
   "metadata": {},
   "outputs": [],
   "source": [
    "# TODO: Add code or notes here"
   ]
  },
  {
   "cell_type": "markdown",
   "id": "2caca84c",
   "metadata": {},
   "source": [
    "## Placeholder Cell 47"
   ]
  },
  {
   "cell_type": "code",
   "execution_count": null,
   "id": "6ccef549",
   "metadata": {},
   "outputs": [],
   "source": [
    "# TODO: Add code or notes here"
   ]
  },
  {
   "cell_type": "markdown",
   "id": "395db99e",
   "metadata": {},
   "source": [
    "## Placeholder Cell 48"
   ]
  },
  {
   "cell_type": "code",
   "execution_count": null,
   "id": "ec7b2e11",
   "metadata": {},
   "outputs": [],
   "source": [
    "# TODO: Add code or notes here"
   ]
  },
  {
   "cell_type": "markdown",
   "id": "df8513a3",
   "metadata": {},
   "source": [
    "## Placeholder Cell 49"
   ]
  },
  {
   "cell_type": "code",
   "execution_count": null,
   "id": "5e14f792",
   "metadata": {},
   "outputs": [],
   "source": [
    "# TODO: Add code or notes here"
   ]
  },
  {
   "cell_type": "markdown",
   "id": "6d46b747",
   "metadata": {},
   "source": [
    "## Placeholder Cell 50"
   ]
  },
  {
   "cell_type": "code",
   "execution_count": null,
   "id": "0a1d3265",
   "metadata": {},
   "outputs": [],
   "source": [
    "# TODO: Add code or notes here"
   ]
  },
  {
   "cell_type": "markdown",
   "id": "ed1f5c67",
   "metadata": {},
   "source": [
    "## Placeholder Cell 51"
   ]
  },
  {
   "cell_type": "code",
   "execution_count": null,
   "id": "e536969c",
   "metadata": {},
   "outputs": [],
   "source": [
    "# TODO: Add code or notes here"
   ]
  },
  {
   "cell_type": "markdown",
   "id": "da0e8b75",
   "metadata": {},
   "source": [
    "## Placeholder Cell 52"
   ]
  },
  {
   "cell_type": "code",
   "execution_count": null,
   "id": "e894fe0d",
   "metadata": {},
   "outputs": [],
   "source": [
    "# TODO: Add code or notes here"
   ]
  },
  {
   "cell_type": "markdown",
   "id": "36af7d86",
   "metadata": {},
   "source": [
    "## Placeholder Cell 53"
   ]
  },
  {
   "cell_type": "code",
   "execution_count": null,
   "id": "ed2dedb4",
   "metadata": {},
   "outputs": [],
   "source": [
    "# TODO: Add code or notes here"
   ]
  },
  {
   "cell_type": "markdown",
   "id": "081a41d0",
   "metadata": {},
   "source": [
    "## Placeholder Cell 54"
   ]
  },
  {
   "cell_type": "code",
   "execution_count": null,
   "id": "afb08e75",
   "metadata": {},
   "outputs": [],
   "source": [
    "# TODO: Add code or notes here"
   ]
  },
  {
   "cell_type": "markdown",
   "id": "15014bee",
   "metadata": {},
   "source": [
    "## Placeholder Cell 55"
   ]
  },
  {
   "cell_type": "code",
   "execution_count": null,
   "id": "a86d702c",
   "metadata": {},
   "outputs": [],
   "source": [
    "# TODO: Add code or notes here"
   ]
  },
  {
   "cell_type": "markdown",
   "id": "6147596f",
   "metadata": {},
   "source": [
    "## Placeholder Cell 56"
   ]
  },
  {
   "cell_type": "code",
   "execution_count": null,
   "id": "16539c95",
   "metadata": {},
   "outputs": [],
   "source": [
    "# TODO: Add code or notes here"
   ]
  },
  {
   "cell_type": "markdown",
   "id": "89e82905",
   "metadata": {},
   "source": [
    "## Placeholder Cell 57"
   ]
  },
  {
   "cell_type": "code",
   "execution_count": null,
   "id": "4586af48",
   "metadata": {},
   "outputs": [],
   "source": [
    "# TODO: Add code or notes here"
   ]
  },
  {
   "cell_type": "markdown",
   "id": "3bdfb557",
   "metadata": {},
   "source": [
    "## Placeholder Cell 58"
   ]
  },
  {
   "cell_type": "code",
   "execution_count": null,
   "id": "83e35a7f",
   "metadata": {},
   "outputs": [],
   "source": [
    "# TODO: Add code or notes here"
   ]
  },
  {
   "cell_type": "markdown",
   "id": "4446f618",
   "metadata": {},
   "source": [
    "## Placeholder Cell 59"
   ]
  },
  {
   "cell_type": "code",
   "execution_count": null,
   "id": "442c487a",
   "metadata": {},
   "outputs": [],
   "source": [
    "# TODO: Add code or notes here"
   ]
  },
  {
   "cell_type": "markdown",
   "id": "f7eb78ae",
   "metadata": {},
   "source": [
    "## Placeholder Cell 60"
   ]
  },
  {
   "cell_type": "code",
   "execution_count": null,
   "id": "de250c4f",
   "metadata": {},
   "outputs": [],
   "source": [
    "# TODO: Add code or notes here"
   ]
  },
  {
   "cell_type": "markdown",
   "id": "9b4980b1",
   "metadata": {},
   "source": [
    "## Placeholder Cell 61"
   ]
  },
  {
   "cell_type": "code",
   "execution_count": null,
   "id": "11be47c4",
   "metadata": {},
   "outputs": [],
   "source": [
    "# TODO: Add code or notes here"
   ]
  },
  {
   "cell_type": "markdown",
   "id": "412ca462",
   "metadata": {},
   "source": [
    "## Placeholder Cell 62"
   ]
  },
  {
   "cell_type": "code",
   "execution_count": null,
   "id": "bd0bae35",
   "metadata": {},
   "outputs": [],
   "source": [
    "# TODO: Add code or notes here"
   ]
  },
  {
   "cell_type": "markdown",
   "id": "cdf6ad0f",
   "metadata": {},
   "source": [
    "## Placeholder Cell 63"
   ]
  },
  {
   "cell_type": "code",
   "execution_count": null,
   "id": "8c50f671",
   "metadata": {},
   "outputs": [],
   "source": [
    "# TODO: Add code or notes here"
   ]
  },
  {
   "cell_type": "markdown",
   "id": "270b9d23",
   "metadata": {},
   "source": [
    "## Placeholder Cell 64"
   ]
  },
  {
   "cell_type": "code",
   "execution_count": null,
   "id": "0633bd4a",
   "metadata": {},
   "outputs": [],
   "source": [
    "# TODO: Add code or notes here"
   ]
  },
  {
   "cell_type": "markdown",
   "id": "d4dbbd9c",
   "metadata": {},
   "source": [
    "## Placeholder Cell 65"
   ]
  },
  {
   "cell_type": "code",
   "execution_count": null,
   "id": "ae8aeb6f",
   "metadata": {},
   "outputs": [],
   "source": [
    "# TODO: Add code or notes here"
   ]
  },
  {
   "cell_type": "markdown",
   "id": "b8309222",
   "metadata": {},
   "source": [
    "## Placeholder Cell 66"
   ]
  },
  {
   "cell_type": "code",
   "execution_count": null,
   "id": "0b00d40c",
   "metadata": {},
   "outputs": [],
   "source": [
    "# TODO: Add code or notes here"
   ]
  },
  {
   "cell_type": "markdown",
   "id": "d0c2ac96",
   "metadata": {},
   "source": [
    "## Placeholder Cell 67"
   ]
  },
  {
   "cell_type": "code",
   "execution_count": null,
   "id": "780165b4",
   "metadata": {},
   "outputs": [],
   "source": [
    "# TODO: Add code or notes here"
   ]
  },
  {
   "cell_type": "markdown",
   "id": "9e3270a3",
   "metadata": {},
   "source": [
    "## Placeholder Cell 68"
   ]
  },
  {
   "cell_type": "code",
   "execution_count": null,
   "id": "71ea9034",
   "metadata": {},
   "outputs": [],
   "source": [
    "# TODO: Add code or notes here"
   ]
  },
  {
   "cell_type": "markdown",
   "id": "d0b608d4",
   "metadata": {},
   "source": [
    "## Placeholder Cell 69"
   ]
  },
  {
   "cell_type": "code",
   "execution_count": null,
   "id": "6b941a63",
   "metadata": {},
   "outputs": [],
   "source": [
    "# TODO: Add code or notes here"
   ]
  },
  {
   "cell_type": "markdown",
   "id": "448775e4",
   "metadata": {},
   "source": [
    "## Placeholder Cell 70"
   ]
  },
  {
   "cell_type": "code",
   "execution_count": null,
   "id": "4d3674ab",
   "metadata": {},
   "outputs": [],
   "source": [
    "# TODO: Add code or notes here"
   ]
  },
  {
   "cell_type": "markdown",
   "id": "aa8ce8f0",
   "metadata": {},
   "source": [
    "## Placeholder Cell 71"
   ]
  },
  {
   "cell_type": "code",
   "execution_count": null,
   "id": "0dd47e32",
   "metadata": {},
   "outputs": [],
   "source": [
    "# TODO: Add code or notes here"
   ]
  },
  {
   "cell_type": "markdown",
   "id": "589344d3",
   "metadata": {},
   "source": [
    "## Placeholder Cell 72"
   ]
  },
  {
   "cell_type": "code",
   "execution_count": null,
   "id": "bd3078cf",
   "metadata": {},
   "outputs": [],
   "source": [
    "# TODO: Add code or notes here"
   ]
  },
  {
   "cell_type": "markdown",
   "id": "bbf64100",
   "metadata": {},
   "source": [
    "## Placeholder Cell 73"
   ]
  },
  {
   "cell_type": "code",
   "execution_count": null,
   "id": "ac979480",
   "metadata": {},
   "outputs": [],
   "source": [
    "# TODO: Add code or notes here"
   ]
  },
  {
   "cell_type": "markdown",
   "id": "b1448d30",
   "metadata": {},
   "source": [
    "## Placeholder Cell 74"
   ]
  },
  {
   "cell_type": "code",
   "execution_count": null,
   "id": "988c28f5",
   "metadata": {},
   "outputs": [],
   "source": [
    "# TODO: Add code or notes here"
   ]
  },
  {
   "cell_type": "markdown",
   "id": "82321859",
   "metadata": {},
   "source": [
    "## Placeholder Cell 75"
   ]
  },
  {
   "cell_type": "code",
   "execution_count": null,
   "id": "76860006",
   "metadata": {},
   "outputs": [],
   "source": [
    "# TODO: Add code or notes here"
   ]
  },
  {
   "cell_type": "markdown",
   "id": "a46bfe0f",
   "metadata": {},
   "source": [
    "## Placeholder Cell 76"
   ]
  },
  {
   "cell_type": "code",
   "execution_count": null,
   "id": "5779544f",
   "metadata": {},
   "outputs": [],
   "source": [
    "# TODO: Add code or notes here"
   ]
  },
  {
   "cell_type": "markdown",
   "id": "29779af0",
   "metadata": {},
   "source": [
    "## Placeholder Cell 77"
   ]
  },
  {
   "cell_type": "code",
   "execution_count": null,
   "id": "ce32b3a2",
   "metadata": {},
   "outputs": [],
   "source": [
    "# TODO: Add code or notes here"
   ]
  },
  {
   "cell_type": "markdown",
   "id": "3f7388e0",
   "metadata": {},
   "source": [
    "## Placeholder Cell 78"
   ]
  },
  {
   "cell_type": "code",
   "execution_count": null,
   "id": "da65f088",
   "metadata": {},
   "outputs": [],
   "source": [
    "# TODO: Add code or notes here"
   ]
  },
  {
   "cell_type": "markdown",
   "id": "ff518e85",
   "metadata": {},
   "source": [
    "## Placeholder Cell 79"
   ]
  },
  {
   "cell_type": "code",
   "execution_count": null,
   "id": "4588b772",
   "metadata": {},
   "outputs": [],
   "source": [
    "# TODO: Add code or notes here"
   ]
  },
  {
   "cell_type": "markdown",
   "id": "d3313e97",
   "metadata": {},
   "source": [
    "## Placeholder Cell 80"
   ]
  },
  {
   "cell_type": "code",
   "execution_count": null,
   "id": "e132a6a5",
   "metadata": {},
   "outputs": [],
   "source": [
    "# TODO: Add code or notes here"
   ]
  },
  {
   "cell_type": "markdown",
   "id": "9b8c3a90",
   "metadata": {},
   "source": [
    "## Placeholder Cell 81"
   ]
  },
  {
   "cell_type": "code",
   "execution_count": null,
   "id": "55aa14b5",
   "metadata": {},
   "outputs": [],
   "source": [
    "# TODO: Add code or notes here"
   ]
  },
  {
   "cell_type": "markdown",
   "id": "cc15e0b2",
   "metadata": {},
   "source": [
    "## Placeholder Cell 82"
   ]
  },
  {
   "cell_type": "code",
   "execution_count": null,
   "id": "cdcc73a7",
   "metadata": {},
   "outputs": [],
   "source": [
    "# TODO: Add code or notes here"
   ]
  },
  {
   "cell_type": "markdown",
   "id": "11e44628",
   "metadata": {},
   "source": [
    "## Placeholder Cell 83"
   ]
  },
  {
   "cell_type": "code",
   "execution_count": null,
   "id": "3249aa7b",
   "metadata": {},
   "outputs": [],
   "source": [
    "# TODO: Add code or notes here"
   ]
  },
  {
   "cell_type": "markdown",
   "id": "8db1dc7d",
   "metadata": {},
   "source": [
    "## Placeholder Cell 84"
   ]
  },
  {
   "cell_type": "code",
   "execution_count": null,
   "id": "725350ad",
   "metadata": {},
   "outputs": [],
   "source": [
    "# TODO: Add code or notes here"
   ]
  },
  {
   "cell_type": "markdown",
   "id": "f9dcde82",
   "metadata": {},
   "source": [
    "## Placeholder Cell 85"
   ]
  },
  {
   "cell_type": "code",
   "execution_count": null,
   "id": "28474d07",
   "metadata": {},
   "outputs": [],
   "source": [
    "# TODO: Add code or notes here"
   ]
  },
  {
   "cell_type": "markdown",
   "id": "5ba3a66f",
   "metadata": {},
   "source": [
    "## Placeholder Cell 86"
   ]
  },
  {
   "cell_type": "code",
   "execution_count": null,
   "id": "ac843a60",
   "metadata": {},
   "outputs": [],
   "source": [
    "# TODO: Add code or notes here"
   ]
  },
  {
   "cell_type": "markdown",
   "id": "cae5cc9f",
   "metadata": {},
   "source": [
    "## Placeholder Cell 87"
   ]
  },
  {
   "cell_type": "code",
   "execution_count": null,
   "id": "9bfe5d74",
   "metadata": {},
   "outputs": [],
   "source": [
    "# TODO: Add code or notes here"
   ]
  },
  {
   "cell_type": "markdown",
   "id": "ee6450b4",
   "metadata": {},
   "source": [
    "## Placeholder Cell 88"
   ]
  },
  {
   "cell_type": "code",
   "execution_count": null,
   "id": "2cecb71d",
   "metadata": {},
   "outputs": [],
   "source": [
    "# TODO: Add code or notes here"
   ]
  },
  {
   "cell_type": "markdown",
   "id": "b6924c34",
   "metadata": {},
   "source": [
    "## Placeholder Cell 89"
   ]
  },
  {
   "cell_type": "code",
   "execution_count": null,
   "id": "294b78fd",
   "metadata": {},
   "outputs": [],
   "source": [
    "# TODO: Add code or notes here"
   ]
  },
  {
   "cell_type": "markdown",
   "id": "969d03e2",
   "metadata": {},
   "source": [
    "## Placeholder Cell 90"
   ]
  },
  {
   "cell_type": "code",
   "execution_count": null,
   "id": "a943e829",
   "metadata": {},
   "outputs": [],
   "source": [
    "# TODO: Add code or notes here"
   ]
  },
  {
   "cell_type": "markdown",
   "id": "ad35e467",
   "metadata": {},
   "source": [
    "## Placeholder Cell 91"
   ]
  },
  {
   "cell_type": "code",
   "execution_count": null,
   "id": "f59388b1",
   "metadata": {},
   "outputs": [],
   "source": [
    "# TODO: Add code or notes here"
   ]
  },
  {
   "cell_type": "markdown",
   "id": "efc980ac",
   "metadata": {},
   "source": [
    "## Placeholder Cell 92"
   ]
  },
  {
   "cell_type": "code",
   "execution_count": null,
   "id": "1a06070d",
   "metadata": {},
   "outputs": [],
   "source": [
    "# TODO: Add code or notes here"
   ]
  },
  {
   "cell_type": "markdown",
   "id": "e4b4a833",
   "metadata": {},
   "source": [
    "## Placeholder Cell 93"
   ]
  },
  {
   "cell_type": "code",
   "execution_count": null,
   "id": "591142e2",
   "metadata": {},
   "outputs": [],
   "source": [
    "# TODO: Add code or notes here"
   ]
  },
  {
   "cell_type": "markdown",
   "id": "3c6bd8d9",
   "metadata": {},
   "source": [
    "## Placeholder Cell 94"
   ]
  },
  {
   "cell_type": "code",
   "execution_count": null,
   "id": "1ef184cc",
   "metadata": {},
   "outputs": [],
   "source": [
    "# TODO: Add code or notes here"
   ]
  },
  {
   "cell_type": "markdown",
   "id": "cf5689fe",
   "metadata": {},
   "source": [
    "## Placeholder Cell 95"
   ]
  },
  {
   "cell_type": "code",
   "execution_count": null,
   "id": "8a872596",
   "metadata": {},
   "outputs": [],
   "source": [
    "# TODO: Add code or notes here"
   ]
  },
  {
   "cell_type": "markdown",
   "id": "a3a34e6a",
   "metadata": {},
   "source": [
    "## Placeholder Cell 96"
   ]
  },
  {
   "cell_type": "code",
   "execution_count": null,
   "id": "1f67609d",
   "metadata": {},
   "outputs": [],
   "source": [
    "# TODO: Add code or notes here"
   ]
  },
  {
   "cell_type": "markdown",
   "id": "0792c2a9",
   "metadata": {},
   "source": [
    "## Placeholder Cell 97"
   ]
  },
  {
   "cell_type": "code",
   "execution_count": null,
   "id": "93468ee3",
   "metadata": {},
   "outputs": [],
   "source": [
    "# TODO: Add code or notes here"
   ]
  },
  {
   "cell_type": "markdown",
   "id": "adc9c7fe",
   "metadata": {},
   "source": [
    "## Placeholder Cell 98"
   ]
  },
  {
   "cell_type": "code",
   "execution_count": null,
   "id": "a6b62b43",
   "metadata": {},
   "outputs": [],
   "source": [
    "# TODO: Add code or notes here"
   ]
  },
  {
   "cell_type": "markdown",
   "id": "ccebd34d",
   "metadata": {},
   "source": [
    "## Placeholder Cell 99"
   ]
  },
  {
   "cell_type": "code",
   "execution_count": null,
   "id": "8eec9f03",
   "metadata": {},
   "outputs": [],
   "source": [
    "# TODO: Add code or notes here"
   ]
  },
  {
   "cell_type": "markdown",
   "id": "5541a505",
   "metadata": {},
   "source": [
    "## Placeholder Cell 100"
   ]
  },
  {
   "cell_type": "code",
   "execution_count": null,
   "id": "cb98487c",
   "metadata": {},
   "outputs": [],
   "source": [
    "# TODO: Add code or notes here"
   ]
  }
 ],
 "metadata": {},
 "nbformat": 4,
 "nbformat_minor": 5
}
