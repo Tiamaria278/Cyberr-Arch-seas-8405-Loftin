{
 "cells": [
  {
   "cell_type": "code",
   "execution_count": 29,
   "id": "1cb1e875-4a56-4754-821b-9d9f2431569c",
   "metadata": {},
   "outputs": [],
   "source": [
    "import pandas as pd\n",
    "from tabulate import tabulate\n",
    "\n",
    "# Data for each architecture\n",
    "data = [\n",
    "    {\n",
    "        \"Architecture\": \"Defense in Depth (DiD)\",\n",
    "        \"Core Principles\": \"Multiple, independent security layers\",\n",
    "        \"When to Use\": \"General-purpose enterprise security; layered infrastructure\",\n",
    "        \"When Not to Use\": \"Highly agile or minimalist stacks with strict latency limits\",\n",
    "        \"Appropriate Platforms\": \"Cloud, On-prem, Hybrid\",\n",
    "        \"Usage\": \"Network → Endpoint → App → Data → Monitoring → Recovery\",\n",
    "        \"Issues\": \"Overlapping controls, complexity\",\n",
    "        \"Well-Known Problems\": \"Misconfigured firewalls, stale monitoring\",\n",
    "        \"Known Cybersecurity Incidents\": \"Target breach (poor segmentation + endpoint compromise)\",\n",
    "        \"Reference\": \"NIST SP 800-53, CIS Controls\"\n",
    "    },\n",
    "    {\n",
    "        \"Architecture\": \"Zero Trust Architecture (ZTA)\",\n",
    "        \"Core Principles\": \"Never trust, always verify; least privilege; micro-segmentation\",\n",
    "        \"When to Use\": \"Distributed, remote-first, hybrid cloud environments\",\n",
    "        \"When Not to Use\": \"Legacy environments without IAM capabilities\",\n",
    "        \"Appropriate Platforms\": \"Cloud-native, SaaS, Hybrid\",\n",
    "        \"Usage\": \"Auth → Microsegmentation → Continuous Verification\",\n",
    "        \"Issues\": \"Integration complexity, user friction\",\n",
    "        \"Well-Known Problems\": \"Poor token expiration, over-reliance on identity proxies\",\n",
    "        \"Known Cybersecurity Incidents\": \"Okta token abuse case (2023)\",\n",
    "        \"Reference\": \"NIST 800-207, Google BeyondCorp\"\n",
    "    },\n",
    "    {\n",
    "        \"Architecture\": \"Secure Software Development Lifecycle (SSDLC)\",\n",
    "        \"Core Principles\": \"Integrate security into each software lifecycle stage\",\n",
    "        \"When to Use\": \"Any software-producing organization\",\n",
    "        \"When Not to Use\": \"Manual, non-versioned, one-off script environments\",\n",
    "        \"Appropriate Platforms\": \"CI/CD, DevOps, DevSecOps\",\n",
    "        \"Usage\": \"Requirements → Design → Coding → Testing → Release → Monitoring\",\n",
    "        \"Issues\": \"Requires cultural shift and training\",\n",
    "        \"Well-Known Problems\": \"Skipping threat modeling, poor dependency hygiene\",\n",
    "        \"Known Cybersecurity Incidents\": \"SolarWinds (malicious code in build pipeline)\",\n",
    "        \"Reference\": \"OWASP SAMM, BSIMM, NIST SSDF\"\n",
    "    },\n",
    "    {\n",
    "        \"Architecture\": \"Zero Knowledge Architecture (ZKA)\",\n",
    "        \"Core Principles\": \"Service never sees or controls your data\",\n",
    "        \"When to Use\": \"Privacy-focused apps, end-to-end encryption needs\",\n",
    "        \"When Not to Use\": \"Apps needing server-side processing of plaintext data\",\n",
    "        \"Appropriate Platforms\": \"Privacy-preserving apps, encrypted messaging, file storage\",\n",
    "        \"Usage\": \"CSE → E2EE → BYOK → ZKPs\",\n",
    "        \"Issues\": \"Limited searchability, complex key management\",\n",
    "        \"Well-Known Problems\": \"Key loss = data loss, hard to integrate with AI\",\n",
    "        \"Known Cybersecurity Incidents\": \"Encrypted messaging services (e.g., Signal warrant can't decrypt data)\",\n",
    "        \"Reference\": \"ProtonMail, Signal whitepapers, zk-SNARKs\"\n",
    "    },\n",
    "    {\n",
    "        \"Architecture\": \"Adaptive Security Architecture (ASA)\",\n",
    "        \"Core Principles\": \"Real-time telemetry + contextual decisions\",\n",
    "        \"When to Use\": \"Threat-prone, regulated, or high-risk environments\",\n",
    "        \"When Not to Use\": \"Low-risk static applications without real-time needs\",\n",
    "        \"Appropriate Platforms\": \"SOAR, SIEM, ML-powered platforms\",\n",
    "        \"Usage\": \"Telemetry → UEBA → Dynamic Policy → Automated Response\",\n",
    "        \"Issues\": \"False positives, privacy trade-offs\",\n",
    "        \"Well-Known Problems\": \"Noise overwhelm in SIEM, delayed policy updates\",\n",
    "        \"Known Cybersecurity Incidents\": \"Capital One breach (SIEM alerts not acted on in time)\",\n",
    "        \"Reference\": \"Gartner Adaptive Security Architecture, MITRE D3FEND\"\n",
    "    },\n",
    "    {\n",
    "        \"Architecture\": \"Model-View-Controller (MVC)\",\n",
    "        \"Core Principles\": \"Separation of concerns: UI, business logic, data\",\n",
    "        \"When to Use\": \"Web apps, GUIs needing modular and testable design\",\n",
    "        \"When Not to Use\": \"Single-layer scripts or tightly-coupled logic\",\n",
    "        \"Appropriate Platforms\": \"Web frameworks (Flask, Django, Rails), GUI apps\",\n",
    "        \"Usage\": \"Model ↔ Controller ↔ View\",\n",
    "        \"Issues\": \"Overhead for simple apps, learning curve for teams\",\n",
    "        \"Well-Known Problems\": \"Improper validation in controller, data leaks from view\",\n",
    "        \"Known Cybersecurity Incidents\": \"Injection attacks due to lack of model-view sanitization\",\n",
    "        \"Reference\": \"MVC Patterns (Gang of Four), OWASP Secure Design\"\n",
    "    },\n",
    "    {\n",
    "        \"Architecture\": \"TOGAF (The Open Group Architecture Framework)\",\n",
    "        \"Core Principles\": \"Business-IT alignment via standardized architectural methodology\",\n",
    "        \"When to Use\": \"Enterprise transformation, long-term IT planning\",\n",
    "        \"When Not to Use\": \"Fast-moving startups, tactical-only tech planning\",\n",
    "        \"Appropriate Platforms\": \"Large enterprises, multi-platform environments\",\n",
    "        \"Usage\": \"ADM cycle: Architecture Vision → Business → Data → App → Tech → Implementation\",\n",
    "        \"Issues\": \"Heavy documentation, requires enterprise buy-in\",\n",
    "        \"Well-Known Problems\": \"Slow adoption, unclear value without governance\",\n",
    "        \"Known Cybersecurity Incidents\": \"Poor enforcement of architecture decisions in legacy systems\",\n",
    "        \"Reference\": \"TOGAF Standard v9.2, Open Group publications\"\n",
    "    },\n",
    "    {\n",
    "        \"Architecture\": \"SABSA (Sherwood Applied Business Security Architecture)\",\n",
    "        \"Core Principles\": \"Security aligned with business requirements and risk management\",\n",
    "        \"When to Use\": \"Enterprise security strategy, governance & risk-aligned IT\",\n",
    "        \"When Not to Use\": \"Tactical-only or purely technical deployments\",\n",
    "        \"Appropriate Platforms\": \"Regulated industries, national security, financial services\",\n",
    "        \"Usage\": \"Business → Architecture → Policy → Assurance → Design → Operations\",\n",
    "        \"Issues\": \"Requires strong enterprise involvement, complex framework\",\n",
    "        \"Well-Known Problems\": \"Misalignment between business and security layers\",\n",
    "        \"Known Cybersecurity Incidents\": \"Strategic missteps from ignoring business-context threats\",\n",
    "        \"Reference\": \"SABSA Institute, SABSA Blue Book\"\n",
    "    }\n",
    "]\n",
    "\n",
    "# Convert to DataFrame and print\n",
    "df = pd.DataFrame(data)\n",
    "# print(tabulate(df, headers=\"keys\", tablefmt=\"fancy_grid\"))\n"
   ]
  },
  {
   "cell_type": "code",
   "execution_count": 30,
   "id": "09592829-e876-4d2e-95c5-34ffdf5f79e8",
   "metadata": {},
   "outputs": [
    {
     "data": {
      "text/plain": [
       "Index(['Architecture', 'Core Principles', 'When to Use', 'When Not to Use',\n",
       "       'Appropriate Platforms', 'Usage', 'Issues', 'Well-Known Problems',\n",
       "       'Known Cybersecurity Incidents', 'Reference'],\n",
       "      dtype='object')"
      ]
     },
     "execution_count": 30,
     "metadata": {},
     "output_type": "execute_result"
    }
   ],
   "source": [
    "df.columns"
   ]
  },
  {
   "cell_type": "code",
   "execution_count": 32,
   "id": "3a782122-f625-406b-b97e-8837bb1166b8",
   "metadata": {},
   "outputs": [
    {
     "name": "stdout",
     "output_type": "stream",
     "text": [
      "╒════╤═════════════════════════════════════════════════════════╤══════════════════════════════════════════════════════════════════╕\n",
      "│    │ Architecture                                            │ Core Principles                                                  │\n",
      "╞════╪═════════════════════════════════════════════════════════╪══════════════════════════════════════════════════════════════════╡\n",
      "│  0 │ Defense in Depth (DiD)                                  │ Multiple, independent security layers                            │\n",
      "├────┼─────────────────────────────────────────────────────────┼──────────────────────────────────────────────────────────────────┤\n",
      "│  1 │ Zero Trust Architecture (ZTA)                           │ Never trust, always verify; least privilege; micro-segmentation  │\n",
      "├────┼─────────────────────────────────────────────────────────┼──────────────────────────────────────────────────────────────────┤\n",
      "│  2 │ Secure Software Development Lifecycle (SSDLC)           │ Integrate security into each software lifecycle stage            │\n",
      "├────┼─────────────────────────────────────────────────────────┼──────────────────────────────────────────────────────────────────┤\n",
      "│  3 │ Zero Knowledge Architecture (ZKA)                       │ Service never sees or controls your data                         │\n",
      "├────┼─────────────────────────────────────────────────────────┼──────────────────────────────────────────────────────────────────┤\n",
      "│  4 │ Adaptive Security Architecture (ASA)                    │ Real-time telemetry + contextual decisions                       │\n",
      "├────┼─────────────────────────────────────────────────────────┼──────────────────────────────────────────────────────────────────┤\n",
      "│  5 │ Model-View-Controller (MVC)                             │ Separation of concerns: UI, business logic, data                 │\n",
      "├────┼─────────────────────────────────────────────────────────┼──────────────────────────────────────────────────────────────────┤\n",
      "│  6 │ TOGAF (The Open Group Architecture Framework)           │ Business-IT alignment via standardized architectural methodology │\n",
      "├────┼─────────────────────────────────────────────────────────┼──────────────────────────────────────────────────────────────────┤\n",
      "│  7 │ SABSA (Sherwood Applied Business Security Architecture) │ Security aligned with business requirements and risk management  │\n",
      "╘════╧═════════════════════════════════════════════════════════╧══════════════════════════════════════════════════════════════════╛\n"
     ]
    }
   ],
   "source": [
    "tf = df[['Architecture', 'Core Principles']]\n",
    "print(tabulate(tf, headers=\"keys\", tablefmt=\"fancy_grid\"))"
   ]
  },
  {
   "cell_type": "code",
   "execution_count": null,
   "id": "1c2e7f0d-3f42-44c7-8e56-12567fab7a52",
   "metadata": {},
   "outputs": [],
   "source": []
  }
 ],
 "metadata": {
  "kernelspec": {
   "display_name": "Python 3 (ipykernel)",
   "language": "python",
   "name": "python3"
  },
  "language_info": {
   "codemirror_mode": {
    "name": "ipython",
    "version": 3
   },
   "file_extension": ".py",
   "mimetype": "text/x-python",
   "name": "python",
   "nbconvert_exporter": "python",
   "pygments_lexer": "ipython3",
   "version": "3.11.9"
  }
 },
 "nbformat": 4,
 "nbformat_minor": 5
}
