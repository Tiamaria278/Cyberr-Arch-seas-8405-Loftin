{
 "cells": [
  {
   "cell_type": "markdown",
   "metadata": {},
   "source": [
    "# Week-4 Cybersecurity Architecture\n",
    "\n",
    "In this notebook, we explore the development of various cybersecurity architectures and threat models critical for securing modern web platforms. These architectures include MVC, Defense in Depth, Zero Trust, TOGAF, SABSA, and SSDLC, implemented across AWS and Azure. Each section includes diagrams and tables to visualize concepts, enriched with educational content and references to industry standards.\n",
    "\n",
    "**Learning Objectives:**\n",
    "- Understand key cybersecurity architecture frameworks.\n",
    "- Learn how to implement these architectures using cloud services.\n",
    "- Explore the scientific and practical basis for securing web applications."
   ]
  },
  {
   "cell_type": "markdown",
   "metadata": {},
   "source": [
    "## Install Requirements\n",
    "\n",
    "Before running the code, ensure the `diagrams` library is installed to generate architecture diagrams. This library allows us to visualize complex systems programmatically, aiding in educational understanding. Additionally, install `tabulate` for creating formatted tables."
   ]
  },
  {
   "cell_type": "code",
   "execution_count": null,
   "metadata": {},
   "outputs": [],
   "source": [
    "# Install required libraries using pip\n",
    "!pip install diagrams tabulate"
   ]
  },
  {
   "cell_type": "markdown",
   "metadata": {},
   "source": [
    "## Build a Web Platform using MVC Architecture\n",
    "\n",
    "The **Model-View-Controller (MVC)** architecture is a foundational design pattern in software engineering, particularly for web applications. It separates an application into three interconnected components:\n",
    "- **Model**: Manages data and business logic (e.g., database interactions).\n",
    "- **View**: Handles the user interface and data presentation (e.g., web pages).\n",
    "- **Controller**: Processes user inputs and coordinates between the model and view (e.g., application logic).\n",
    "\n",
    "This separation enhances security by isolating concerns, reducing the attack surface, and enabling modular security controls.\n",
    "\n",
    "**Reference**: Gamma, E., Helm, R., Johnson, R., & Vlissides, J. (1994). *Design Patterns: Elements of Reusable Object-Oriented Software*. Addison-Wesley."
   ]
  },
  {
   "cell_type": "code",
   "execution_count": null,
   "metadata": {},
   "outputs": [],
   "source": [
    "from diagrams import Diagram, Cluster\n",
    "from diagrams.onprem.client import Users, Client\n",
    "from diagrams.onprem.network import Internet, Haproxy\n",
    "from diagrams.programming.framework import Flask\n",
    "from diagrams.onprem.database import PostgreSQL\n",
    "from diagrams.aws.network import ELB\n",
    "from IPython.display import Image\n",
    "\n",
    "# Create a diagram to illustrate MVC architecture for a Flask-based web platform\n",
    "with Diagram(\"Flask Web Platform with MVC Architecture\", show=False, outformat=\"png\", filename=\"flask_mvc_arch\"):\n",
    "\n",
    "    # External entities interacting with the system\n",
    "    user = Users(\"User\")  # Represents the end-user accessing the platform\n",
    "    browser = Client(\"Browser\")  # User's interface to the web application\n",
    "    internet = Internet(\"Internet\")  # Network layer connecting user to services\n",
    "    lb = ELB(\"Load Balancer\")  # Distributes incoming traffic for scalability and reliability\n",
    "\n",
    "    # Define the MVC components within a clustered boundary\n",
    "    with Cluster(\"Web Platform (MVC)\"):\n",
    "        view = browser  # Browser acts as the view, displaying data to the user\n",
    "        nginx = Haproxy(\"Nginx (Web Server)\")  # Serves static content and forwards requests\n",
    "        controller = Flask(\"Flask App (Controller)\")  # Handles business logic and user inputs\n",
    "        model = PostgreSQL(\"PostgreSQL (Model)\")  # Stores and manages application data\n",
    "\n",
    "        # Data flow within MVC: View -> Controller -> Model\n",
    "        view >> nginx >> controller >> model\n",
    "\n",
    "    # External connections: User interacts with the system via the internet and load balancer\n",
    "    user >> view  # User accesses the browser\n",
    "    view >> internet >> lb >> nginx  # Browser connects through the internet to the load balancer and web server\n",
    "\n",
    "# Display the generated diagram for visualization\n",
    "Image(filename=\"flask_mvc_arch.png\")"
   ]
  },
  {
   "cell_type": "markdown",
   "metadata": {},
   "source": [
    "## Building Web Platform on AWS\n",
    "\n",
    "Deploying the MVC-based Flask web platform on **Amazon Web Services (AWS)** leverages cloud services for scalability and security. Key components include:\n",
    "- **Public Subnet**: Hosts the view (Nginx on EC2), accessible via the internet.\n",
    "- **NAT Subnet**: Hosts the controller (Flask on EC2), shielded from direct internet access.\n",
    "- **Private Subnet**: Hosts the model (PostgreSQL on RDS), fully isolated for data protection.\n",
    "\n",
    "This multi-tier architecture enhances security by segregating components and limiting exposure.\n",
    "\n",
    "**Reference**: Amazon Web Services. (2021). *AWS Well-Architected Framework*. https://aws.amazon.com/architecture/well-architected/"
   ]
  },
  {
   "cell_type": "code",
   "execution_count": null,
   "metadata": {},
   "outputs": [],
   "source": [
    "from diagrams import Diagram, Cluster\n",
    "from diagrams.aws.network import ELB, CloudFront, VPC, InternetGateway, Route53\n",
    "from diagrams.aws.compute import EC2, Lambda\n",
    "from diagrams.aws.database import RDS\n",
    "from diagrams.aws.general import User\n",
    "from diagrams.aws.security import WAF\n",
    "from diagrams.aws.management import Cloudwatch\n",
    "from diagrams.onprem.client import Client\n",
    "from IPython.display import Image\n",
    "\n",
    "# Diagram illustrating MVC deployment on AWS\n",
    "with Diagram(\"Flask Web Platform (MVC) on AWS\", show=False, outformat=\"png\", filename=\"flask_mvc_aws_arch\"):\n",
    "\n",
    "    user = User(\"User\")  # End-user accessing the platform\n",
    "    browser = Client(\"Browser\")  # User's interface\n",
    "\n",
    "    with Cluster(\"AWS Cloud\"):\n",
    "        dns = Route53(\"DNS\")  # Manages domain name resolution\n",
    "        cdn = CloudFront(\"CloudFront\")  # CDN for performance and DDoS protection\n",
    "        lb = ELB(\"Application Load Balancer\")  # Distributes traffic to EC2 instances\n",
    "\n",
    "        with Cluster(\"VPC\"):  # Virtual Private Cloud for network isolation\n",
    "            with Cluster(\"Public Subnet\"):  # Accessible from the internet\n",
    "                nginx = EC2(\"Nginx (View)\")  # Web server hosting the view layer\n",
    "\n",
    "            with Cluster(\"NAT Subnet\"):  # Network Address Translation subnet for controlled access\n",
    "                ec2 = EC2(\"Flask App (Controller)\")  # Application logic layer\n",
    "\n",
    "            with Cluster(\"Private Subnet\"):  # Isolated from direct internet access\n",
    "                db = RDS(\"PostgreSQL (Model)\")  # Database for data storage\n",
    "\n",
    "            # Data flow: View -> Controller -> Model\n",
    "            nginx >> ec2 >> db\n",
    "\n",
    "        # External traffic flow: DNS -> CDN -> Load Balancer -> Nginx\n",
    "        dns >> cdn >> lb >> nginx\n",
    "\n",
    "    # User interaction path\n",
    "    user >> browser >> dns\n",
    "\n",
    "# Display the diagram\n",
    "Image(filename=\"flask_mvc_aws_arch.png\")"
   ]
  },
  {
   "cell_type": "markdown",
   "metadata": {},
   "source": [
    "## Building Web Platform on Azure\n",
    "\n",
    "Similarly, the MVC-based Flask web platform can be deployed on **Microsoft Azure**, utilizing its cloud services for security and scalability. Key components include:\n",
    "- **Public Subnet**: Hosts the view (Nginx on VM).\n",
    "- **NAT Subnet**: Hosts the controller (Flask on VM).\n",
    "- **Private Subnet**: Hosts the model (PostgreSQL on Azure Database).\n",
    "\n",
    "This setup ensures a secure, layered architecture similar to AWS.\n",
    "\n",
    "**Reference**: Microsoft Azure. (2021). *Azure Architecture Center*. https://docs.microsoft.com/en-us/azure/architecture/"
   ]
  },
  {
   "cell_type": "code",
   "execution_count": null,
   "metadata": {},
   "outputs": [],
   "source": [
    "from diagrams import Diagram, Cluster\n",
    "from diagrams.azure.network import ApplicationGateway, VirtualNetworks\n",
    "from diagrams.azure.compute import VM\n",
    "from diagrams.azure.database import DatabaseForPostgresqlServers\n",
    "from diagrams.azure.general import Usericon\n",
    "from diagrams.onprem.client import Client\n",
    "from diagrams.onprem.network import Bind9\n",
    "from IPython.display import Image\n",
    "\n",
    "# Diagram illustrating MVC deployment on Azure\n",
    "with Diagram(\"Flask Web Platform (MVC) on Azure\", show=False, outformat=\"png\", filename=\"flask_mvc_azure_arch\"):\n",
    "\n",
    "    user = Usericon(\"User\")  # End-user\n",
    "    browser = Client(\"Browser\")  # User's interface\n",
    "\n",
    "    with Cluster(\"Azure Cloud\"):\n",
    "        dns = Bind9(\"Azure DNS\")  # DNS service (using Bind9 as a fallback representation)\n",
    "        lb = ApplicationGateway(\"Application Gateway\")  # Load balancer with WAF\n",
    "\n",
    "        with Cluster(\"VNet\"):  # Virtual Network for isolation\n",
    "            with Cluster(\"Public Subnet\"):\n",
    "                nginx = VM(\"Nginx (View)\")  # Web server\n",
    "\n",
    "            with Cluster(\"NAT Subnet\"):\n",
    "                app = VM(\"Flask App (Controller)\")  # Application logic\n",
    "\n",
    "            with Cluster(\"Private Subnet\"):\n",
    "                db = DatabaseForPostgresqlServers(\"PostgreSQL (Model)\")  # Database\n",
    "\n",
    "            # Data flow\n",
    "            nginx >> app >> db\n",
    "\n",
    "        # Traffic flow\n",
    "        dns >> lb >> nginx\n",
    "\n",
    "    user >> browser >> dns\n",
    "\n",
    "# Display the diagram\n",
    "Image(filename=\"flask_mvc_azure_arch.png\")"
   ]
  },
  {
   "cell_type": "markdown",
   "metadata": {},
   "source": [
    "## Defense in Depth\n",
    "\n",
    "**Defense in Depth** is a cybersecurity strategy that employs multiple layers of security controls to protect assets. By implementing redundant defenses, it ensures that if one layer fails, others remain effective, enhancing overall resilience.\n",
    "\n",
    "**Reference**: National Institute of Standards and Technology (NIST). (2018). *Framework for Improving Critical Infrastructure Cybersecurity*. https://www.nist.gov/cyberframework"
   ]
  },
  {
   "cell_type": "code",
   "execution_count": null,
   "metadata": {},
   "outputs": [],
   "source": [
    "from tabulate import tabulate\n",
    "\n",
    "# Table comparing Defense in Depth layers across AWS and Azure\n",
    "data = [\n",
    "    [\"User Access\", \"IAM policies, MFA\", \"Azure AD policies, MFA\", \"Verify user identity, enforce least privilege access\"],\n",
    "    [\"Client Device\", \"Browser security, TLS\", \"Browser security, TLS\", \"Prevent client-side exploits and ensure secure transport\"],\n",
    "    [\"Edge Protection\", \"WAF, CloudFront\", \"Application Gateway WAF\", \"Mitigate DDoS and external threats at the boundary\"],\n",
    "    [\"Network\", \"VPC, Security Groups\", \"VNet, Network Security Groups\", \"Control traffic flow and segment network\"],\n",
    "    [\"Application\", \"CodeDeploy, Inspector\", \"Azure DevOps, Security Center\", \"Secure app deployment and runtime\"],\n",
    "    [\"Data\", \"RDS encryption, KMS\", \"Azure DB encryption, Key Vault\", \"Protect data at rest and in transit\"]\n",
    "]\n",
    "\n",
    "headers = [\"Layer\", \"AWS Controls\", \"Azure Controls\", \"Reason & Functionality\"]\n",
    "\n",
    "# Display the table\n",
    "print(tabulate(data, headers=headers, tablefmt=\"fancy_grid\"))\n",
    "\n",
    "# Inline explanations:\n",
    "# - User Access: Controls authentication and authorization to limit access.\n",
    "# - Client Device: Secures the endpoint accessing the system.\n",
    "# - Edge Protection: Mitigates external threats at the network boundary.\n",
    "# - Network: Enforces segmentation and traffic rules.\n",
    "# - Application: Ensures secure code and runtime environment.\n",
    "# - Data: Protects sensitive information with encryption."
   ]
  },
  {
   "cell_type": "markdown",
   "metadata": {},
   "source": [
    "## Zero Trust Architecture\n",
    "\n",
    "**Zero Trust** assumes no entity (inside or outside the network) is trusted by default. It requires continuous verification of identity, device posture, and access rights, minimizing the attack surface.\n",
    "\n",
    "**Reference**: NIST Special Publication 800-207. (2020). *Zero Trust Architecture*. https://nvlpubs.nist.gov/nistpubs/SpecialPublications/NIST.SP.800-207.pdf"
   ]
  },
  {
   "cell_type": "code",
   "execution_count": null,
   "metadata": {},
   "outputs": [],
   "source": [
    "from tabulate import tabulate\n",
    "\n",
    "# Table outlining Zero Trust pillars\n",
    "zta_data = [\n",
    "    [\"Identity Verification\", \"IAM Identity Center\", \"Azure AD\", \"Ensure user authentication and least privilege access\"],\n",
    "    [\"Device Trust\", \"Inspector\", \"Azure Security Center\", \"Verify and assess compute instance security posture\"],\n",
    "    [\"Network Segmentation\", \"VPC, Security Groups\", \"VNet, NSGs\", \"Limit lateral movement with micro-segmentation\"],\n",
    "    [\"Application Access\", \"App Gateway, WAF\", \"Application Gateway\", \"Restrict access to authorized apps only\"],\n",
    "    [\"Data Protection\", \"KMS, S3 encryption\", \"Key Vault, Blob encryption\", \"Encrypt and control access to data\"]\n",
    "]\n",
    "\n",
    "headers = [\"ZTA Pillar\", \"AWS Controls\", \"Azure Controls\", \"Purpose\"]\n",
    "\n",
    "# Display the table\n",
    "print(tabulate(zta_data, headers=headers, tablefmt=\"fancy_grid\"))"
   ]
  },
  {
   "cell_type": "markdown",
   "metadata": {},
   "source": [
    "## TOGAF Security Architecture\n",
    "\n",
    "**TOGAF** (The Open Group Architecture Framework) provides a structured approach to enterprise architecture, including security. It defines domains like Business, Application, Data, and Technology Architecture, each with security considerations.\n",
    "\n",
    "**Reference**: The Open Group. (2018). *TOGAF Version 9.2*. https://www.opengroup.org/togaf"
   ]
  },
  {
   "cell_type": "code",
   "execution_count": null,
   "metadata": {},
   "outputs": [],
   "source": [
    "from tabulate import tabulate\n",
    "\n",
    "# Table for TOGAF domains and controls\n",
    "togaf_data = [\n",
    "    [\"Business Architecture\", \"IAM Identity Center\", \"Azure AD\", \"Define roles, responsibilities, and access governance\"],\n",
    "    [\"Application Architecture\", \"CodeDeploy, Inspector\", \"Azure DevOps, App Services\", \"Secure application lifecycle and runtime\"],\n",
    "    [\"Data Architecture\", \"RDS, KMS\", \"Azure DB, Key Vault\", \"Ensure data integrity and confidentiality\"],\n",
    "    [\"Technology Architecture\", \"VPC, Security Groups\", \"VNet, NSGs\", \"Provide secure infrastructure and network controls\"]\n",
    "]\n",
    "\n",
    "headers = [\"TOGAF Domain\", \"AWS Controls\", \"Azure Controls\", \"Purpose\"]\n",
    "\n",
    "# Display the table\n",
    "print(tabulate(togaf_data, headers=headers, tablefmt=\"fancy_grid\"))"
   ]
  },
  {
   "cell_type": "markdown",
   "metadata": {},
   "source": [
    "## SABSA Security Architecture\n",
    "\n",
    "**SABSA** (Sherwood Applied Business Security Architecture) is a framework for developing risk-driven enterprise security architectures. It aligns security with business objectives across multiple layers: Contextual, Conceptual, Logical, Physical, and Component.\n",
    "\n",
    "**Reference**: Sherwood, J., Clark, A., & Lynas, D. (2005). *Enterprise Security Architecture: A Business-Driven Approach*. CMP Books."
   ]
  },
  {
   "cell_type": "code",
   "execution_count": null,
   "metadata": {},
   "outputs": [],
   "source": [
    "from tabulate import tabulate\n",
    "\n",
    "# Table for SABSA layers\n",
    "sabsa_data = [\n",
    "    [\"Contextual Layer\", \"Business requirements\", \"Business requirements\", \"Align security with business goals\"],\n",
    "    [\"Conceptual Layer\", \"IAM policies\", \"Azure AD policies\", \"Define security policies and principles\"],\n",
    "    [\"Logical Layer\", \"VPC design, WAF\", \"VNet design, App Gateway\", \"Design logical security controls\"],\n",
    "    [\"Physical Layer\", \"EC2, RDS\", \"VMs, Azure DB\", \"Implement physical infrastructure security\"],\n",
    "    [\"Component Layer\", \"KMS, Security Groups\", \"Key Vault, NSGs\", \"Deploy specific security tools and configurations\"]\n",
    "]\n",
    "\n",
    "headers = [\"SABSA Layer\", \"AWS Controls\", \"Azure Controls\", \"Purpose\"]\n",
    "\n",
    "# Display the table\n",
    "print(tabulate(sabsa_data, headers=headers, tablefmt=\"fancy_grid\"))"
   ]
  },
  {
   "cell_type": "markdown",
   "metadata": {},
   "source": [
    "## SSDLC / Design by Security\n",
    "\n",
    "The **Secure Software Development Life Cycle (SSDLC)** integrates security practices into each phase of software development, from design to deployment. This proactive approach ensures security is built-in, not bolted on.\n",
    "\n",
    "**Reference**: OWASP. (2021). *Secure Software Development Lifecycle*. https://owasp.org/www-project-secure-software-development-life-cycle/"
   ]
  },
  {
   "cell_type": "code",
   "execution_count": null,
   "metadata": {},
   "outputs": [],
   "source": [
    "from tabulate import tabulate\n",
    "\n",
    "# Table for SSDLC phases\n",
    "ssdlc_data = [\n",
    "    [\"Requirements\", \"Threat modeling\", \"Threat modeling\", \"Identify security needs and risks\"],\n",
    "    [\"Design\", \"Architecture review\", \"Architecture review\", \"Plan secure design principles\"],\n",
    "    [\"Development\", \"CodeCommit, Inspector\", \"Azure DevOps, SAST\", \"Write and scan secure code\"],\n",
    "    [\"Testing\", \"Dynamic testing\", \"DAST, Security Center\", \"Validate security controls\"],\n",
    "    [\"Deployment\", \"CodeDeploy, WAF\", \"App Gateway, Monitoring\", \"Deploy securely with runtime protection\"]\n",
    "]\n",
    "\n",
    "headers = [\"SSDLC Phase\", \"AWS Controls\", \"Azure Controls\", \"Purpose\"]\n",
    "\n",
    "# Display the table\n",
    "print(tabulate(ssdlc_data, headers=headers, tablefmt=\"fancy_grid\"))"
   ]
  }
 ],
 "metadata": {
  "kernelspec": {
   "display_name": "Python 3",
   "language": "python",
   "name": "python3"
  },
  "language_info": {
   "name": "python",
   "version": "3.x"
  }
 },
 "nbformat": 4,
 "nbformat_minor": 5
}

