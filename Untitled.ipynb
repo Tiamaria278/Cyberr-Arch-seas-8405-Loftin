{
 "cells": [
  {
   "cell_type": "code",
   "execution_count": 5,
   "id": "617e6abb-16b0-40a7-944f-f61472d54891",
   "metadata": {},
   "outputs": [
    {
     "ename": "ImportError",
     "evalue": "cannot import name 'IntrusionDetectionSystem' from 'diagrams.onprem.security' (/opt/anaconda3/envs/rome/lib/python3.11/site-packages/diagrams/onprem/security.py)",
     "output_type": "error",
     "traceback": [
      "\u001b[0;31m---------------------------------------------------------------------------\u001b[0m",
      "\u001b[0;31mImportError\u001b[0m                               Traceback (most recent call last)",
      "Cell \u001b[0;32mIn[5], line 5\u001b[0m\n\u001b[1;32m      3\u001b[0m \u001b[38;5;28;01mfrom\u001b[39;00m \u001b[38;5;21;01mdiagrams\u001b[39;00m\u001b[38;5;21;01m.\u001b[39;00m\u001b[38;5;21;01monprem\u001b[39;00m\u001b[38;5;21;01m.\u001b[39;00m\u001b[38;5;21;01mdatabase\u001b[39;00m \u001b[38;5;28;01mimport\u001b[39;00m PostgreSQL\n\u001b[1;32m      4\u001b[0m \u001b[38;5;28;01mfrom\u001b[39;00m \u001b[38;5;21;01mdiagrams\u001b[39;00m\u001b[38;5;21;01m.\u001b[39;00m\u001b[38;5;21;01monprem\u001b[39;00m\u001b[38;5;21;01m.\u001b[39;00m\u001b[38;5;21;01mnetwork\u001b[39;00m \u001b[38;5;28;01mimport\u001b[39;00m Internet, PFSense \u001b[38;5;28;01mas\u001b[39;00m Firewall\n\u001b[0;32m----> 5\u001b[0m \u001b[38;5;28;01mfrom\u001b[39;00m \u001b[38;5;21;01mdiagrams\u001b[39;00m\u001b[38;5;21;01m.\u001b[39;00m\u001b[38;5;21;01monprem\u001b[39;00m\u001b[38;5;21;01m.\u001b[39;00m\u001b[38;5;21;01msecurity\u001b[39;00m \u001b[38;5;28;01mimport\u001b[39;00m IntrusionDetectionSystem\n\u001b[1;32m      6\u001b[0m \u001b[38;5;28;01mfrom\u001b[39;00m \u001b[38;5;21;01mdiagrams\u001b[39;00m\u001b[38;5;21;01m.\u001b[39;00m\u001b[38;5;21;01mprogramming\u001b[39;00m\u001b[38;5;21;01m.\u001b[39;00m\u001b[38;5;21;01mlanguage\u001b[39;00m \u001b[38;5;28;01mimport\u001b[39;00m Apache\n\u001b[1;32m      8\u001b[0m \u001b[38;5;66;03m# Equifax On-Premise Architecture\u001b[39;00m\n",
      "\u001b[0;31mImportError\u001b[0m: cannot import name 'IntrusionDetectionSystem' from 'diagrams.onprem.security' (/opt/anaconda3/envs/rome/lib/python3.11/site-packages/diagrams/onprem/security.py)"
     ]
    }
   ],
   "source": [
    "\n",
    "from diagrams import Diagram, Cluster\n",
    "from diagrams.onprem.compute import Server\n",
    "from diagrams.onprem.database import PostgreSQL\n",
    "from diagrams.onprem.network import Internet, PFSense as Firewall\n",
    "from diagrams.onprem.security import IntrusionDetectionSystem\n",
    "from diagrams.programming.language import Apache\n",
    "\n",
    "# Equifax On-Premise Architecture\n",
    "with Diagram(\"Equifax On-Premise Base Architecture\", show=False, direction=\"TB\", outformat=\"png\", filename=\"equifax_onprem_base\"):\n",
    "    internet = Internet(\"Internet\")\n",
    "    firewall = Firewall(\"Firewall\")\n",
    "    internet >> firewall\n",
    "    with Cluster(\"Internal Network\"):\n",
    "        web_server = Server(\"Web Server (Apache Struts)\")\n",
    "        database = PostgreSQL(\"PII Database\")\n",
    "        ids = IntrusionDetectionSystem(\"IDS (Disabled)\")\n",
    "        firewall >> web_server >> database\n",
    "\n",
    "# SolarWinds On-Premise Architecture\n",
    "with Diagram(\"SolarWinds On-Premise Base Architecture\", show=False, direction=\"TB\", outformat=\"png\", filename=\"solarwinds_onprem_base\"):\n",
    "    internet = Internet(\"Internet\")\n",
    "    firewall = Firewall(\"Firewall\")\n",
    "    internet >> firewall\n",
    "    with Cluster(\"Internal Network\"):\n",
    "        build_server = Server(\"Build Server (Orion)\")\n",
    "        update_server = Server(\"Update Server\")\n",
    "        client_system = Server(\"Client System\")\n",
    "        build_server >> update_server >> client_system\n",
    "        firewall >> build_server\n",
    "\n",
    "# Capital One On-Premise Architecture\n",
    "with Diagram(\"Capital One On-Premise Base Architecture\", show=False, direction=\"TB\", outformat=\"png\", filename=\"capitalone_onprem_base\"):\n",
    "    internet = Internet(\"Internet\")\n",
    "    firewall = Firewall(\"Firewall\")\n",
    "    internet >> firewall\n",
    "    with Cluster(\"Internal Network\"):\n",
    "        web_server = Server(\"Web Server (WAF)\")\n",
    "        s3_buckets = Server(\"Data Storage\")\n",
    "        firewall >> web_server >> s3_buckets\n",
    "\n",
    "# Target On-Premise Architecture\n",
    "with Diagram(\"Target On-Premise Base Architecture\", show=False, direction=\"TB\", outformat=\"png\", filename=\"target_onprem_base\"):\n",
    "    internet = Internet(\"Internet\")\n",
    "    firewall = Firewall(\"Firewall\")\n",
    "    hvac_vendor = Server(\"HVAC Vendor System\")\n",
    "    internet >> firewall\n",
    "    hvac_vendor >> firewall\n",
    "    with Cluster(\"Internal Network\"):\n",
    "        corporate_network = Server(\"Corporate Network\")\n",
    "        pos_systems = Server(\"Point-of-Sale Systems\")\n",
    "        corporate_network >> pos_systems\n",
    "        firewall >> corporate_network\n",
    "\n",
    "from IPython.display import Image\n",
    "Image(filename=\"equifax_onprem_base.png\")\n",
    "Image(filename=\"solarwinds_onprem_base.png\")\n",
    "Image(filename=\"capitalone_onprem_base.png\")\n",
    "Image(filename=\"target_onprem_base.png\")\n"
   ]
  },
  {
   "cell_type": "code",
   "execution_count": 6,
   "id": "32897b30-4924-4ee3-bfee-c5568394a4fb",
   "metadata": {},
   "outputs": [
    {
     "name": "stdout",
     "output_type": "stream",
     "text": [
      "['Bitwarden', 'Trivy', 'Vault', '_OnPrem', '_Security', '__builtins__', '__cached__', '__doc__', '__file__', '__loader__', '__name__', '__package__', '__spec__']\n"
     ]
    }
   ],
   "source": [
    "import  diagrams.onprem.security  \n",
    "print(dir( diagrams.onprem.security  ))"
   ]
  },
  {
   "cell_type": "code",
   "execution_count": null,
   "id": "8a91226c-1247-4dd6-bf33-5031072548c9",
   "metadata": {},
   "outputs": [],
   "source": []
  }
 ],
 "metadata": {
  "kernelspec": {
   "display_name": "Python 3 (ipykernel)",
   "language": "python",
   "name": "python3"
  },
  "language_info": {
   "codemirror_mode": {
    "name": "ipython",
    "version": 3
   },
   "file_extension": ".py",
   "mimetype": "text/x-python",
   "name": "python",
   "nbconvert_exporter": "python",
   "pygments_lexer": "ipython3",
   "version": "3.11.9"
  }
 },
 "nbformat": 4,
 "nbformat_minor": 5
}
