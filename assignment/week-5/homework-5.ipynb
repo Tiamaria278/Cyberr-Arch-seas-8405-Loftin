{
 "cells": [
  {
   "cell_type": "markdown",
   "id": "5d873900",
   "metadata": {},
   "source": [
    "# Assignment: Designing Secure Architectures to Mitigate Historical Breaches\n",
    "\n",
    "## Objective\n",
    "In this assignment, you will analyze three major cybersecurity breaches—Equifax Data Breach (2017), SolarWinds Backdoor Attack (2020), and Capital One Data Breach (2019)—and design secure architectures to address their specific vulnerabilities. For each breach, you will:\n",
    "1. Create an architecture diagram using Python's `diagrams` module for a system in an environment of your choice (On-premises, AWS, or Azure).\n",
    "2. Develop three security architectures: **Defense in Depth (DiD)**, **Zero Trust**, and **Adaptive Security**, adapting your initial diagram for each.\n",
    "3. Explain your design decisions in a table format for each architecture.\n",
    "4. Submit your work in this notebook, including code, diagrams, and explanations.\n",
    "\n",
    "## Tools\n",
    "- **Python Diagramming Library**: Use the `diagrams` module (`pip install diagrams`) to programmatically create architecture diagrams.\n",
    "- **Environment**: Choose one of the following for your designs: On-premises, AWS, or Azure.\n",
    "- **Submission**: This notebook with all code, generated diagrams (e.g., PNG files), and tables.\n",
    "\n",
    "## Instructions\n",
    "- **Setup**: Install the `diagrams` library with `!pip install diagrams` in a code cell.\n",
    "- **Diagrams**: Create a base architecture diagram for each breach, then adapt it for DiD, Zero Trust, and Adaptive Security.\n",
    "- **Documentation**: Use markdown cells to describe your designs and tables to explain controls.\n",
    "\n",
    "## Breach Scenarios\n",
    "### 1. Equifax Data Breach (2017)\n",
    "- **Unpatched Apache Struts Vulnerability**: Unpatched for 2+ months, allowed code execution.\n",
    "- **Lack of Network Segmentation**: Flat network enabled lateral movement to PII databases.\n",
    "- **Expired IDS Certificates**: Disabled intrusion detection for 10+ months.\n",
    "- **False Negatives in Scans**: Missed vulnerabilities due to misconfiguration.\n",
    "\n",
    "### 2. SolarWinds Backdoor Attack (2020)\n",
    "- **Supply-Chain Compromise**: Backdoor in signed Orion updates infected 18,000+ customers.\n",
    "- **Anomalous Build Processes**: Compromised build environment injected malicious code.\n",
    "- **Insufficient Build Safeguards**: No tampering detection in the pipeline.\n",
    "- **Lack of Policy Enforcement**: No integrity checks for updates.\n",
    "\n",
    "### 3. Capital One Data Breach (2019)\n",
    "- **Cloud Misconfiguration (SSRF)**: Misconfigured WAF allowed metadata access.\n",
    "- **Over-Privileged IAM Roles**: Excessive permissions exposed 100+ S3 buckets.\n",
    "- **Inadequate Monitoring**: Failed to detect SSRF or data exfiltration.\n",
    "- **Compliance Gaps**: Weak IAM and configuration governance.\n",
    "\n",
    "\n",
    "---\n",
    "\n",
    "### Rubric for Grading the Assignment\n",
    "\n",
    "| **Category**                | **Excellent (90-100%)**                                                                                   | **Good (80-89%)**                                                                                     | **Satisfactory (70-79%)**                                                                             | **Needs Improvement (60-69%)**                                                                    | **Unsatisfactory (0-59%)**                                                                   |\n",
    "|-----------------------------|-----------------------------------------------------------------------------------------------------------|-------------------------------------------------------------------------------------------------------|-------------------------------------------------------------------------------------------------------|---------------------------------------------------------------------------------------------------|----------------------------------------------------------------------------------------------|\n",
    "| **Base Architecture Analysis (15%)** | Provides a detailed, accurate description of the base architecture for each breach, clearly identifying all key components involved (e.g., web servers, databases). Diagrams are precise, visually clear, and fully aligned with the breach scenario. | Describes the base architecture accurately with most key components identified. Diagrams are clear and mostly aligned with the scenario, with minor inaccuracies or omissions. | Provides a basic description of the base architecture with some components identified. Diagrams are functional but lack clarity or contain noticeable inaccuracies related to the scenario. | Description is vague or incomplete, missing key components. Diagrams are poorly designed, unclear, or misrepresent the breach scenario significantly. | No description or diagram provided, or the work is unrelated to the breach scenarios.        |\n",
    "| **Defense in Depth (DiD) Design (20%)** | Designs a comprehensive DiD architecture with 5 well-chosen, specific controls that directly address all breach vulnerabilities. Diagram is detailed, incorporating all controls effectively with clear connections. Table provides thorough, logical rationales tied to the breach. | Designs a solid DiD architecture with 5 relevant controls addressing most vulnerabilities. Diagram includes most controls with clear connections, though minor details may be missing. Table rationales are clear but may lack depth in some cases. | Designs a DiD architecture with 4-5 controls addressing some vulnerabilities. Diagram includes several controls but may lack full integration or clarity. Table rationales are present but basic or partially incomplete. | Designs a DiD architecture with fewer than 4 controls or controls that poorly address vulnerabilities. Diagram is incomplete or unclear. Table rationales are vague, missing, or disconnected from the breach. | No DiD design, controls, diagram, or table provided, or the work is irrelevant.              |\n",
    "| **Zero Trust Design (20%)** | Designs a robust Zero Trust architecture with 5 specific, breach-relevant controls fully enforcing trust verification principles. Diagram is precise, showing verification at every step. Table offers deep, breach-specific rationales demonstrating strong understanding. | Designs a good Zero Trust architecture with 5 controls mostly aligned with trust principles and breach issues. Diagram shows verification effectively with minor gaps. Table rationales are clear, though some lack full specificity to the breach. | Designs a Zero Trust architecture with 4-5 controls somewhat aligned with trust principles. Diagram includes verification but may be incomplete or unclear. Table rationales are adequate but lack depth or full breach connection. | Designs a Zero Trust architecture with fewer than 4 controls or weak alignment to trust principles. Diagram lacks clarity or key verification elements. Table rationales are incomplete or unclear. | No Zero Trust design, controls, diagram, or table provided, or the work is irrelevant.       |\n",
    "| **Adaptive Security Design (20%)** | Designs an innovative Adaptive Security architecture with 5 specific, dynamic controls addressing all breach vulnerabilities. Diagram integrates real-time adaptation (e.g., feedback loops) clearly. Table provides insightful, breach-specific rationales showing advanced reasoning. | Designs a strong Adaptive Security architecture with 5 controls addressing most vulnerabilities dynamically. Diagram includes adaptation elements with minor omissions. Table rationales are solid but may lack some depth or specificity. | Designs an Adaptive Security architecture with 4-5 controls addressing some vulnerabilities dynamically. Diagram shows adaptation but lacks full clarity or integration. Table rationales are present but basic or not fully tied to the breach. | Designs an Adaptive Security architecture with fewer than 4 controls or poor dynamic elements. Diagram is unclear or lacks adaptation features. Table rationales are vague or incomplete. | No Adaptive Security design, controls, diagram, or table provided, or the work is irrelevant.|\n",
    "| **Technical Implementation (15%)** | Python code runs flawlessly, producing all 12 diagrams (base + 3 per breach) with correct syntax and environment-specific components. Diagrams are saved and displayed as PNGs with no errors. Environment choice is consistent and appropriate. | Code runs with minor errors (e.g., missing imports) but produces at least 10 diagrams correctly. Diagrams are mostly clear and use appropriate components. Environment choice is consistent with slight inconsistencies. | Code runs with some errors, producing 7-9 diagrams. Diagrams are functional but may lack polish or correct components. Environment choice is mostly consistent but may have minor mismatches. | Code has significant errors, producing fewer than 7 diagrams or failing to display them. Diagrams are unclear or use incorrect components. Environment choice is inconsistent or unclear. | Code does not run, produces no diagrams, or lacks environment-specific implementation.      |\n",
    "| **Clarity and Documentation (10%)** | Explanations are concise, articulate, and directly tied to breach scenarios. Tables are fully completed with clear, logical rationales. Conclusion is insightful, summarizing effectiveness comprehensively. | Explanations are clear and mostly tied to breaches. Tables are completed with minor gaps in rationales. Conclusion summarizes effectiveness well but may lack depth. | Explanations are adequate but may lack detail or breach connection. Tables are partially completed with basic rationales. Conclusion is present but lacks full analysis. | Explanations are vague or incomplete. Tables are minimally completed or unclear. Conclusion is brief or missing key insights. | No explanations, incomplete tables, or no conclusion provided.                          |\n",
    "\n",
    "---\n",
    "\n",
    "### Total Points: 100%\n",
    "- **Base Architecture Analysis**: 15 points\n",
    "- **Defense in Depth Design**: 20 points\n",
    "- **Zero Trust Design**: 20 points\n",
    "- **Adaptive Security Design**: 20 points\n",
    "- **Technical Implementation**: 15 points\n",
    "- **Clarity and Documentation**: 10 points\n",
    "\n"
   ]
  },
  {
   "cell_type": "code",
   "execution_count": null,
   "id": "dfe2a475",
   "metadata": {},
   "outputs": [],
   "source": [
    "# Setup: Install the diagrams library\n",
    "!pip install diagrams\n",
    "\n",
    "# Import necessary modules\n",
    "from diagrams import Diagram, Cluster\n",
    "# Add environment-specific imports based on your choice (e.g., from diagrams.aws.network import ELB)\n"
   ]
  },
  {
   "cell_type": "markdown",
   "id": "8890b01c",
   "metadata": {},
   "source": [
    "# Equifax Data Breach (2017)\n",
    "## Base Architecture\n",
    "**Environment Chosen**: [Fill in: On-premises / AWS / Azure]\n"
   ]
  },
  {
   "cell_type": "markdown",
   "id": "f17d010d",
   "metadata": {},
   "source": [
    "### Question 1: Describe the Base Architecture\n",
    "Briefly describe the system that was compromised in the Equifax breach based on the scenario provided. What components (e.g., web servers, databases) were involved?\n"
   ]
  },
  {
   "cell_type": "markdown",
   "id": "ce71088a",
   "metadata": {},
   "source": [
    "**Your Answer**: [Type your description here]\n"
   ]
  },
  {
   "cell_type": "code",
   "execution_count": null,
   "id": "ba2dab22",
   "metadata": {},
   "outputs": [],
   "source": [
    "# Base Architecture Diagram for Equifax\n",
    "with Diagram(\"Equifax Base Architecture\", show=False, direction=\"TB\", outformat=\"png\", filename=\"equifax_base\"):\n",
    "    # Define your components here based on your description above\n",
    "    pass  # Replace with actual diagram code\n",
    "\n",
    "# Display the diagram\n",
    "from IPython.display import Image\n",
    "Image(filename=\"equifax_base.png\")\n"
   ]
  },
  {
   "cell_type": "markdown",
   "id": "350cb345",
   "metadata": {},
   "source": [
    "## Defense in Depth (DiD) Architecture\n"
   ]
  },
  {
   "cell_type": "markdown",
   "id": "4be0a88d",
   "metadata": {},
   "source": [
    "### Question 2: Plan Your DiD Controls\n",
    "How will you apply Defense in Depth to mitigate the Equifax breach issues? List 5 controls in the comments below.\n"
   ]
  },
  {
   "cell_type": "code",
   "execution_count": null,
   "id": "fffc7703",
   "metadata": {},
   "outputs": [],
   "source": [
    "# DiD Controls for Equifax\n",
    "# Control 1: [e.g., Patch Management System] - Applies to [e.g., Web Servers] - Reason: [Mitigates unpatched Struts vulnerability]\n",
    "# Control 2: [Your control here] - Applies to [Where] - Reason: [Why it helps]\n",
    "# Control 3: [Your control here] - Applies to [Where] - Reason: [Why it helps]\n",
    "# Control 4: [Your control here] - Applies to [Where] - Reason: [Why it helps]\n",
    "# Control 5: [Your control here] - Applies to [Where] - Reason: [Why it helps]\n",
    "\n",
    "# DiD Architecture Diagram for Equifax\n",
    "with Diagram(\"Equifax DiD Architecture\", show=False, direction=\"TB\", outformat=\"png\", filename=\"equifax_did\"):\n",
    "    # Modify the base diagram to include your DiD controls\n",
    "    pass  # Replace with actual diagram code\n",
    "\n",
    "# Display the diagram\n",
    "Image(filename=\"equifax_did.png\")\n"
   ]
  },
  {
   "cell_type": "markdown",
   "id": "7dd3ff23",
   "metadata": {},
   "source": [
    "### DiD Controls Table\n",
    "Fill in the table based on your controls above:\n",
    "\n",
    "| **Control**                     | **Where It Applies**                              | **Reason (Rationale)**                                                                                  |\n",
    "|---------------------------------|--------------------------------------------------|--------------------------------------------------------------------------------------------------------|\n",
    "| [Control 1]                    | [Where]                                          | [Reason]                                                                                               |\n",
    "| [Control 2]                    | [Where]                                          | [Reason]                                                                                               |\n",
    "| [Control 3]                    | [Where]                                          | [Reason]                                                                                               |\n",
    "| [Control 4]                    | [Where]                                          | [Reason]                                                                                               |\n",
    "| [Control 5]                    | [Where]                                          | [Reason]                                                                                               |\n"
   ]
  },
  {
   "cell_type": "markdown",
   "id": "e9b2623a",
   "metadata": {},
   "source": [
    "## Zero Trust Architecture\n"
   ]
  },
  {
   "cell_type": "markdown",
   "id": "e5846497",
   "metadata": {},
   "source": [
    "### Question 3: Plan Your Zero Trust Controls\n",
    "How will you apply Zero Trust to mitigate the Equifax breach issues? List 5 controls in the comments below.\n"
   ]
  },
  {
   "cell_type": "code",
   "execution_count": null,
   "id": "06649478",
   "metadata": {},
   "outputs": [],
   "source": [
    "# Zero Trust Controls for Equifax\n",
    "# Control 1: [e.g., Multi-Factor Authentication] - Applies to [e.g., All Access Points] - Reason: [Ensures verification at every step]\n",
    "# Control 2: [Your control here] - Applies to [Where] - Reason: [Why it helps]\n",
    "# Control 3: [Your control here] - Applies to [Where] - Reason: [Why it helps]\n",
    "# Control 4: [Your control here] - Applies to [Where] - Reason: [Why it helps]\n",
    "# Control 5: [Your control here] - Applies to [Where] - Reason: [Why it helps]\n",
    "\n",
    "# Zero Trust Architecture Diagram for Equifax\n",
    "with Diagram(\"Equifax Zero Trust Architecture\", show=False, direction=\"TB\", outformat=\"png\", filename=\"equifax_zt\"):\n",
    "    # Modify the base diagram to include your Zero Trust controls\n",
    "    pass  # Replace with actual diagram code\n",
    "\n",
    "# Display the diagram\n",
    "Image(filename=\"equifax_zt.png\")\n"
   ]
  },
  {
   "cell_type": "markdown",
   "id": "fbd5a53a",
   "metadata": {},
   "source": [
    "### Zero Trust Controls Table\n",
    "Fill in the table based on your controls above:\n",
    "\n",
    "| **Control**                     | **Where It Applies**                              | **Reason (Rationale)**                                                                                  |\n",
    "|---------------------------------|--------------------------------------------------|--------------------------------------------------------------------------------------------------------|\n",
    "| [Control 1]                    | [Where]                                          | [Reason]                                                                                               |\n",
    "| [Control 2]                    | [Where]                                          | [Reason]                                                                                               |\n",
    "| [Control 3]                    | [Where]                                          | [Reason]                                                                                               |\n",
    "| [Control 4]                    | [Where]                                          | [Reason]                                                                                               |\n",
    "| [Control 5]                    | [Where]                                          | [Reason]                                                                                               |\n"
   ]
  },
  {
   "cell_type": "markdown",
   "id": "7835acb2",
   "metadata": {},
   "source": [
    "## Adaptive Security Architecture\n"
   ]
  },
  {
   "cell_type": "markdown",
   "id": "950851a0",
   "metadata": {},
   "source": [
    "### Question 4: Plan Your Adaptive Security Controls\n",
    "How will you apply Adaptive Security to mitigate the Equifax breach issues? List 5 controls in the comments below.\n"
   ]
  },
  {
   "cell_type": "code",
   "execution_count": null,
   "id": "49fbd4e1",
   "metadata": {},
   "outputs": [],
   "source": [
    "# Adaptive Security Controls for Equifax\n",
    "# Control 1: [e.g., Real-Time Threat Detection] - Applies to [e.g., Network Traffic] - Reason: [Adapts to detect malicious activity]\n",
    "# Control 2: [Your control here] - Applies to [Where] - Reason: [Why it helps]\n",
    "# Control 3: [Your control here] - Applies to [Where] - Reason: [Why it helps]\n",
    "# Control 4: [Your control here] - Applies to [Where] - Reason: [Why it helps]\n",
    "# Control 5: [Your control here] - Applies to [Where] - Reason: [Why it helps]\n",
    "\n",
    "# Adaptive Security Architecture Diagram for Equifax\n",
    "with Diagram(\"Equifax Adaptive Security Architecture\", show=False, direction=\"TB\", outformat=\"png\", filename=\"equifax_as\"):\n",
    "    # Modify the base diagram to include your Adaptive Security controls\n",
    "    pass  # Replace with actual diagram code\n",
    "\n",
    "# Display the diagram\n",
    "Image(filename=\"equifax_as.png\")\n"
   ]
  },
  {
   "cell_type": "markdown",
   "id": "41511f11",
   "metadata": {},
   "source": [
    "### Adaptive Security Controls Table\n",
    "Fill in the table based on your controls above:\n",
    "\n",
    "| **Control**                     | **Where It Applies**                              | **Reason (Rationale)**                                                                                  |\n",
    "|---------------------------------|--------------------------------------------------|--------------------------------------------------------------------------------------------------------|\n",
    "| [Control 1]                    | [Where]                                          | [Reason]                                                                                               |\n",
    "| [Control 2]                    | [Where]                                          | [Reason]                                                                                               |\n",
    "| [Control 3]                    | [Where]                                          | [Reason]                                                                                               |\n",
    "| [Control 4]                    | [Where]                                          | [Reason]                                                                                               |\n",
    "| [Control 5]                    | [Where]                                          | [Reason]                                                                                               |\n"
   ]
  },
  {
   "cell_type": "markdown",
   "id": "cb38f3bb",
   "metadata": {},
   "source": [
    "# SolarWinds Backdoor Attack (2020)\n",
    "## Base Architecture\n",
    "**Environment Chosen**: [Fill in: On-premises / AWS / Azure]\n"
   ]
  },
  {
   "cell_type": "markdown",
   "id": "e9734b5b",
   "metadata": {},
   "source": [
    "### Question 5: Describe the Base Architecture\n",
    "Briefly describe the system that was compromised in the SolarWinds breach based on the scenario provided. What components (e.g., build servers, update servers) were involved?\n"
   ]
  },
  {
   "cell_type": "markdown",
   "id": "a9f1df44",
   "metadata": {},
   "source": [
    "**Your Answer**: [Type your description here]\n"
   ]
  },
  {
   "cell_type": "code",
   "execution_count": null,
   "id": "f095d37d",
   "metadata": {},
   "outputs": [],
   "source": [
    "# Base Architecture Diagram for SolarWinds\n",
    "with Diagram(\"SolarWinds Base Architecture\", show=False, direction=\"TB\", outformat=\"png\", filename=\"solarwinds_base\"):\n",
    "    # Define your components here based on your description above\n",
    "    pass  # Replace with actual diagram code\n",
    "\n",
    "# Display the diagram\n",
    "Image(filename=\"solarwinds_base.png\")\n"
   ]
  },
  {
   "cell_type": "markdown",
   "id": "38e8c55f",
   "metadata": {},
   "source": [
    "## Defense in Depth (DiD) Architecture\n"
   ]
  },
  {
   "cell_type": "markdown",
   "id": "e61a99a6",
   "metadata": {},
   "source": [
    "### Question 6: Plan Your DiD Controls\n",
    "How will you apply Defense in Depth to mitigate the SolarWinds breach issues? List 5 controls in the comments below.\n"
   ]
  },
  {
   "cell_type": "code",
   "execution_count": null,
   "id": "db1e8754",
   "metadata": {},
   "outputs": [],
   "source": [
    "# DiD Controls for SolarWinds\n",
    "# Control 1: [e.g., Code Signing Verification] - Applies to [e.g., Build Pipeline] - Reason: [Prevents supply-chain compromise]\n",
    "# Control 2: [Your control here] - Applies to [Where] - Reason: [Why it helps]\n",
    "# Control 3: [Your control here] - Applies to [Where] - Reason: [Why it helps]\n",
    "# Control 4: [Your control here] - Applies to [Where] - Reason: [Why it helps]\n",
    "# Control 5: [Your control here] - Applies to [Where] - Reason: [Why it helps]\n",
    "\n",
    "# DiD Architecture Diagram for SolarWinds\n",
    "with Diagram(\"SolarWinds DiD Architecture\", show=False, direction=\"TB\", outformat=\"png\", filename=\"solarwinds_did\"):\n",
    "    # Modify the base diagram to include your DiD controls\n",
    "    pass  # Replace with actual diagram code\n",
    "\n",
    "# Display the diagram\n",
    "Image(filename=\"solarwinds_did.png\")\n"
   ]
  },
  {
   "cell_type": "markdown",
   "id": "1bccd57a",
   "metadata": {},
   "source": [
    "### DiD Controls Table\n",
    "Fill in the table based on your controls above:\n",
    "\n",
    "| **Control**                     | **Where It Applies**                              | **Reason (Rationale)**                                                                                  |\n",
    "|---------------------------------|--------------------------------------------------|--------------------------------------------------------------------------------------------------------|\n",
    "| [Control 1]                    | [Where]                                          | [Reason]                                                                                               |\n",
    "| [Control 2]                    | [Where]                                          | [Reason]                                                                                               |\n",
    "| [Control 3]                    | [Where]                                          | [Reason]                                                                                               |\n",
    "| [Control 4]                    | [Where]                                          | [Reason]                                                                                               |\n",
    "| [Control 5]                    | [Where]                                          | [Reason]                                                                                               |\n"
   ]
  },
  {
   "cell_type": "markdown",
   "id": "4ff77b5a",
   "metadata": {},
   "source": [
    "## Zero Trust Architecture\n"
   ]
  },
  {
   "cell_type": "markdown",
   "id": "baca250d",
   "metadata": {},
   "source": [
    "### Question 7: Plan Your Zero Trust Controls\n",
    "How will you apply Zero Trust to mitigate the SolarWinds breach issues? List 5 controls in the comments below.\n"
   ]
  },
  {
   "cell_type": "code",
   "execution_count": null,
   "id": "402b8907",
   "metadata": {},
   "outputs": [],
   "source": [
    "# Zero Trust Controls for SolarWinds\n",
    "# Control 1: [e.g., Continuous Validation] - Applies to [e.g., Update Servers] - Reason: [Ensures trusted updates only]\n",
    "# Control 2: [Your control here] - Applies to [Where] - Reason: [Why it helps]\n",
    "# Control 3: [Your control here] - Applies to [Where] - Reason: [Why it helps]\n",
    "# Control 4: [Your control here] - Applies to [Where] - Reason: [Why it helps]\n",
    "# Control 5: [Your control here] - Applies to [Where] - Reason: [Why it helps]\n",
    "\n",
    "# Zero Trust Architecture Diagram for SolarWinds\n",
    "with Diagram(\"SolarWinds Zero Trust Architecture\", show=False, direction=\"TB\", outformat=\"png\", filename=\"solarwinds_zt\"):\n",
    "    # Modify the base diagram to include your Zero Trust controls\n",
    "    pass  # Replace with actual diagram code\n",
    "\n",
    "# Display the diagram\n",
    "Image(filename=\"solarwinds_zt.png\")\n"
   ]
  },
  {
   "cell_type": "markdown",
   "id": "2cf3b9de",
   "metadata": {},
   "source": [
    "### Zero Trust Controls Table\n",
    "Fill in the table based on your controls above:\n",
    "\n",
    "| **Control**                     | **Where It Applies**                              | **Reason (Rationale)**                                                                                  |\n",
    "|---------------------------------|--------------------------------------------------|--------------------------------------------------------------------------------------------------------|\n",
    "| [Control 1]                    | [Where]                                          | [Reason]                                                                                               |\n",
    "| [Control 2]                    | [Where]                                          | [Reason]                                                                                               |\n",
    "| [Control 3]                    | [Where]                                          | [Reason]                                                                                               |\n",
    "| [Control 4]                    | [Where]                                          | [Reason]                                                                                               |\n",
    "| [Control 5]                    | [Where]                                          | [Reason]                                                                                               |\n"
   ]
  },
  {
   "cell_type": "markdown",
   "id": "1b022a5f",
   "metadata": {},
   "source": [
    "## Adaptive Security Architecture\n"
   ]
  },
  {
   "cell_type": "markdown",
   "id": "d9563ffa",
   "metadata": {},
   "source": [
    "### Question 8: Plan Your Adaptive Security Controls\n",
    "How will you apply Adaptive Security to mitigate the SolarWinds breach issues? List 5 controls in the comments below.\n"
   ]
  },
  {
   "cell_type": "code",
   "execution_count": null,
   "id": "57ca55ed",
   "metadata": {},
   "outputs": [],
   "source": [
    "# Adaptive Security Controls for SolarWinds\n",
    "# Control 1: [e.g., Anomaly Detection in Builds] - Applies to [e.g., Build Pipeline] - Reason: [Detects tampering dynamically]\n",
    "# Control 2: [Your control here] - Applies to [Where] - Reason: [Why it helps]\n",
    "# Control 3: [Your control here] - Applies to [Where] - Reason: [Why it helps]\n",
    "# Control 4: [Your control here] - Applies to [Where] - Reason: [Why it helps]\n",
    "# Control 5: [Your control here] - Applies to [Where] - Reason: [Why it helps]\n",
    "\n",
    "# Adaptive Security Architecture Diagram for SolarWinds\n",
    "with Diagram(\"SolarWinds Adaptive Security Architecture\", show=False, direction=\"TB\", outformat=\"png\", filename=\"solarwinds_as\"):\n",
    "    # Modify the base diagram to include your Adaptive Security controls\n",
    "    pass  # Replace with actual diagram code\n",
    "\n",
    "# Display the diagram\n",
    "Image(filename=\"solarwinds_as.png\")\n"
   ]
  },
  {
   "cell_type": "markdown",
   "id": "e281b928",
   "metadata": {},
   "source": [
    "### Adaptive Security Controls Table\n",
    "Fill in the table based on your controls above:\n",
    "\n",
    "| **Control**                     | **Where It Applies**                              | **Reason (Rationale)**                                                                                  |\n",
    "|---------------------------------|--------------------------------------------------|--------------------------------------------------------------------------------------------------------|\n",
    "| [Control 1]                    | [Where]                                          | [Reason]                                                                                               |\n",
    "| [Control 2]                    | [Where]                                          | [Reason]                                                                                               |\n",
    "| [Control 3]                    | [Where]                                          | [Reason]                                                                                               |\n",
    "| [Control 4]                    | [Where]                                          | [Reason]                                                                                               |\n",
    "| [Control 5]                    | [Where]                                          | [Reason]                                                                                               |\n"
   ]
  },
  {
   "cell_type": "markdown",
   "id": "4c0ce894",
   "metadata": {},
   "source": [
    "# Capital One Data Breach (2019)\n",
    "## Base Architecture\n",
    "**Environment Chosen**: [Fill in: On-premises / AWS / Azure]\n"
   ]
  },
  {
   "cell_type": "markdown",
   "id": "8d2f0577",
   "metadata": {},
   "source": [
    "### Question 9: Describe the Base Architecture\n",
    "Briefly describe the system that was compromised in the Capital One breach based on the scenario provided. What components (e.g., WAF, S3 buckets) were involved?\n"
   ]
  },
  {
   "cell_type": "markdown",
   "id": "556fa662",
   "metadata": {},
   "source": [
    "**Your Answer**: [Type your description here]\n"
   ]
  },
  {
   "cell_type": "code",
   "execution_count": null,
   "id": "dd08af4a",
   "metadata": {},
   "outputs": [],
   "source": [
    "# Base Architecture Diagram for Capital One\n",
    "with Diagram(\"Capital One Base Architecture\", show=False, direction=\"TB\", outformat=\"png\", filename=\"capitalone_base\"):\n",
    "    # Define your components here based on your description above\n",
    "    pass  # Replace with actual diagram code\n",
    "\n",
    "# Display the diagram\n",
    "Image(filename=\"capitalone_base.png\")\n"
   ]
  },
  {
   "cell_type": "markdown",
   "id": "8c3d4c46",
   "metadata": {},
   "source": [
    "## Defense in Depth (DiD) Architecture\n"
   ]
  },
  {
   "cell_type": "markdown",
   "id": "82dce3dd",
   "metadata": {},
   "source": [
    "### Question 10: Plan Your DiD Controls\n",
    "How will you apply Defense in Depth to mitigate the Capital One breach issues? List 5 controls in the comments below.\n"
   ]
  },
  {
   "cell_type": "code",
   "execution_count": null,
   "id": "7c490d53",
   "metadata": {},
   "outputs": [],
   "source": [
    "# DiD Controls for Capital One\n",
    "# Control 1: [e.g., WAF Rule Validation] - Applies to [e.g., Web Application Firewall] - Reason: [Prevents SSRF attacks]\n",
    "# Control 2: [Your control here] - Applies to [Where] - Reason: [Why it helps]\n",
    "# Control 3: [Your control here] - Applies to [Where] - Reason: [Why it helps]\n",
    "# Control 4: [Your control here] - Applies to [Where] - Reason: [Why it helps]\n",
    "# Control 5: [Your control here] - Applies to [Where] - Reason: [Why it helps]\n",
    "\n",
    "# DiD Architecture Diagram for Capital One\n",
    "with Diagram(\"Capital One DiD Architecture\", show=False, direction=\"TB\", outformat=\"png\", filename=\"capitalone_did\"):\n",
    "    # Modify the base diagram to include your DiD controls\n",
    "    pass  # Replace with actual diagram code\n",
    "\n",
    "# Display the diagram\n",
    "Image(filename=\"capitalone_did.png\")\n"
   ]
  },
  {
   "cell_type": "markdown",
   "id": "4fee9435",
   "metadata": {},
   "source": [
    "### DiD Controls Table\n",
    "Fill in the table based on your controls above:\n",
    "\n",
    "| **Control**                     | **Where It Applies**                              | **Reason (Rationale)**                                                                                  |\n",
    "|---------------------------------|--------------------------------------------------|--------------------------------------------------------------------------------------------------------|\n",
    "| [Control 1]                    | [Where]                                          | [Reason]                                                                                               |\n",
    "| [Control 2]                    | [Where]                                          | [Reason]                                                                                               |\n",
    "| [Control 3]                    | [Where]                                          | [Reason]                                                                                               |\n",
    "| [Control 4]                    | [Where]                                          | [Reason]                                                                                               |\n",
    "| [Control 5]                    | [Where]                                          | [Reason]                                                                                               |\n"
   ]
  },
  {
   "cell_type": "markdown",
   "id": "71cf250d",
   "metadata": {},
   "source": [
    "## Zero Trust Architecture\n"
   ]
  },
  {
   "cell_type": "markdown",
   "id": "2a3b020b",
   "metadata": {},
   "source": [
    "### Question 11: Plan Your Zero Trust Controls\n",
    "How will you apply Zero Trust to mitigate the Capital One breach issues? List 5 controls in the comments below.\n"
   ]
  },
  {
   "cell_type": "code",
   "execution_count": null,
   "id": "1436503b",
   "metadata": {},
   "outputs": [],
   "source": [
    "# Zero Trust Controls for Capital One\n",
    "# Control 1: [e.g., Least Privilege IAM] - Applies to [e.g., IAM Roles] - Reason: [Reduces over-privileged access]\n",
    "# Control 2: [Your control here] - Applies to [Where] - Reason: [Why it helps]\n",
    "# Control 3: [Your control here] - Applies to [Where] - Reason: [Why it helps]\n",
    "# Control 4: [Your control here] - Applies to [Where] - Reason: [Why it helps]\n",
    "# Control 5: [Your control here] - Applies to [Where] - Reason: [Why it helps]\n",
    "\n",
    "# Zero Trust Architecture Diagram for Capital One\n",
    "with Diagram(\"Capital One Zero Trust Architecture\", show=False, direction=\"TB\", outformat=\"png\", filename=\"capitalone_zt\"):\n",
    "    # Modify the base diagram to include your Zero Trust controls\n",
    "    pass  # Replace with actual diagram code\n",
    "\n",
    "# Display the diagram\n",
    "Image(filename=\"capitalone_zt.png\")\n"
   ]
  },
  {
   "cell_type": "markdown",
   "id": "d81efa83",
   "metadata": {},
   "source": [
    "### Zero Trust Controls Table\n",
    "Fill in the table based on your controls above:\n",
    "\n",
    "| **Control**                     | **Where It Applies**                              | **Reason (Rationale)**                                                                                  |\n",
    "|---------------------------------|--------------------------------------------------|--------------------------------------------------------------------------------------------------------|\n",
    "| [Control 1]                    | [Where]                                          | [Reason]                                                                                               |\n",
    "| [Control 2]                    | [Where]                                          | [Reason]                                                                                               |\n",
    "| [Control 3]                    | [Where]                                          | [Reason]                                                                                               |\n",
    "| [Control 4]                    | [Where]                                          | [Reason]                                                                                               |\n",
    "| [Control 5]                    | [Where]                                          | [Reason]                                                                                               |\n"
   ]
  },
  {
   "cell_type": "markdown",
   "id": "38bfb040",
   "metadata": {},
   "source": [
    "## Adaptive Security Architecture\n"
   ]
  },
  {
   "cell_type": "markdown",
   "id": "47612999",
   "metadata": {},
   "source": [
    "### Question 12: Plan Your Adaptive Security Controls\n",
    "How will you apply Adaptive Security to mitigate the Capital One breach issues? List 5 controls in the comments below.\n"
   ]
  },
  {
   "cell_type": "code",
   "execution_count": null,
   "id": "4f8beb4c",
   "metadata": {},
   "outputs": [],
   "source": [
    "# Adaptive Security Controls for Capital One\n",
    "# Control 1: [e.g., Dynamic Monitoring] - Applies to [e.g., Cloud Logs] - Reason: [Detects SSRF in real-time]\n",
    "# Control 2: [Your control here] - Applies to [Where] - Reason: [Why it helps]\n",
    "# Control 3: [Your control here] - Applies to [Where] - Reason: [Why it helps]\n",
    "# Control 4: [Your control here] - Applies to [Where] - Reason: [Why it helps]\n",
    "# Control 5: [Your control here] - Applies to [Where] - Reason: [Why it helps]\n",
    "\n",
    "# Adaptive Security Architecture Diagram for Capital One\n",
    "with Diagram(\"Capital One Adaptive Security Architecture\", show=False, direction=\"TB\", outformat=\"png\", filename=\"capitalone_as\"):\n",
    "    # Modify the base diagram to include your Adaptive Security controls\n",
    "    pass  # Replace with actual diagram code\n",
    "\n",
    "# Display the diagram\n",
    "Image(filename=\"capitalone_as.png\")\n"
   ]
  },
  {
   "cell_type": "markdown",
   "id": "cc18390c",
   "metadata": {},
   "source": [
    "### Adaptive Security Controls Table\n",
    "Fill in the table based on your controls above:\n",
    "\n",
    "| **Control**                     | **Where It Applies**                              | **Reason (Rationale)**                                                                                  |\n",
    "|---------------------------------|--------------------------------------------------|--------------------------------------------------------------------------------------------------------|\n",
    "| [Control 1]                    | [Where]                                          | [Reason]                                                                                               |\n",
    "| [Control 2]                    | [Where]                                          | [Reason]                                                                                               |\n",
    "| [Control 3]                    | [Where]                                          | [Reason]                                                                                               |\n",
    "| [Control 4]                    | [Where]                                          | [Reason]                                                                                               |\n",
    "| [Control 5]                    | [Where]                                          | [Reason]                                                                                               |\n"
   ]
  },
  {
   "cell_type": "markdown",
   "id": "4dc5ffa1",
   "metadata": {},
   "source": [
    "# Conclusion\n"
   ]
  },
  {
   "cell_type": "markdown",
   "id": "94b26b41",
   "metadata": {},
   "source": [
    "### Question 13: Summarize Your Findings\n",
    "Summarize the effectiveness of each architecture (DiD, Zero Trust, Adaptive Security) in mitigating the Equifax, SolarWinds, and Capital One breaches.\n"
   ]
  },
  {
   "cell_type": "markdown",
   "id": "567c06e9",
   "metadata": {},
   "source": [
    "**Your Answer**: [Type your summary here]\n"
   ]
  }
 ],
 "metadata": {
  "kernelspec": {
   "display_name": "Python 3 (ipykernel)",
   "language": "python",
   "name": "python3"
  },
  "language_info": {
   "codemirror_mode": {
    "name": "ipython",
    "version": 3
   },
   "file_extension": ".py",
   "mimetype": "text/x-python",
   "name": "python",
   "nbconvert_exporter": "python",
   "pygments_lexer": "ipython3",
   "version": "3.11.9"
  }
 },
 "nbformat": 4,
 "nbformat_minor": 5
}
