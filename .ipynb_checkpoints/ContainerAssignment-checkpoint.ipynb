{
  "nbformat": 4,
  "nbformat_minor": 0,
  "metadata": {
    "colab": {
      "provenance": [],
      "authorship_tag": "ABX9TyOw+WHZqMvWo7CYsT5uBAvX",
      "include_colab_link": true
    },
    "kernelspec": {
      "name": "python3",
      "display_name": "Python 3"
    },
    "language_info": {
      "name": "python"
    }
  },
  "cells": [
    {
      "cell_type": "markdown",
      "metadata": {
        "id": "view-in-github",
        "colab_type": "text"
      },
      "source": [
        "<a href=\"https://colab.research.google.com/github/Kolawole-a2/Kola_Projects/blob/main/ContainerAssignment.ipynb\" target=\"_parent\"><img src=\"https://colab.research.google.com/assets/colab-badge.svg\" alt=\"Open In Colab\"/></a>"
      ]
    },
    {
      "cell_type": "code",
      "execution_count": 1,
      "metadata": {
        "colab": {
          "base_uri": "https://localhost:8080/"
        },
        "id": "-CcVf5XJJCsM",
        "outputId": "41ad9664-45eb-4699-f451-14e8db6d98e9"
      },
      "outputs": [
        {
          "output_type": "stream",
          "name": "stdout",
          "text": [
            "Applying Docker security fixes...\n",
            "Updated /content/etc/docker/daemon.json with security settings.\n",
            "Updated /content/Dockerfile with non-root user and health check.\n",
            "Updated /content/docker-compose.yml with security settings.\n",
            "Security fixes applied.\n"
          ]
        }
      ],
      "source": [
        "import os\n",
        "import json\n",
        "import yaml\n",
        "\n",
        "# Simulated file system in Colab\n",
        "os.makedirs(\"/content/etc/docker\", exist_ok=True)\n",
        "DAEMON_JSON_PATH = '/content/etc/docker/daemon.json'\n",
        "DOCKERFILE_PATH = '/content/Dockerfile'\n",
        "DOCKER_COMPOSE_PATH = '/content/docker-compose.yml'\n",
        "\n",
        "# Create dummy files to simulate a real environment\n",
        "with open(DAEMON_JSON_PATH, 'w') as f:\n",
        "    json.dump({}, f)\n",
        "with open(DOCKERFILE_PATH, 'w') as f:\n",
        "    f.write(\"FROM python:3.8\\nCMD python app.py\\n\")\n",
        "with open(DOCKER_COMPOSE_PATH, 'w') as f:\n",
        "    yaml.dump({\"services\": {\"web\": {\"image\": \"myapp\", \"ports\": [\"0.0.0.0:5000:5000\"]}}}, f)\n",
        "\n",
        "# Original functions from your script\n",
        "def update_daemon_json():\n",
        "    settings = {\n",
        "        \"icc\": False,\n",
        "        \"userns-remap\": \"default\",\n",
        "        \"live-restore\": True,\n",
        "        \"userland-proxy\": False\n",
        "    }\n",
        "    if os.path.exists(DAEMON_JSON_PATH):\n",
        "        with open(DAEMON_JSON_PATH, 'r') as f:\n",
        "            current_settings = json.load(f)\n",
        "        current_settings.update(settings)\n",
        "    else:\n",
        "        current_settings = settings\n",
        "    with open(DAEMON_JSON_PATH, 'w') as f:\n",
        "        json.dump(current_settings, f, indent=4)\n",
        "    print(f\"Updated {DAEMON_JSON_PATH} with security settings.\")\n",
        "\n",
        "def update_dockerfile():\n",
        "    with open(DOCKERFILE_PATH, 'r') as f:\n",
        "        lines = f.readlines()\n",
        "    if not any('RUN adduser -D appuser' in line for line in lines):\n",
        "        lines.insert(1, 'RUN adduser -D appuser\\n')\n",
        "    if not any('HEALTHCHECK' in line for line in lines):\n",
        "        lines.insert(-1, 'HEALTHCHECK --interval=30s --timeout=10s CMD curl -f http://localhost:5000/ || exit 1\\n')\n",
        "    if not any('USER appuser' in line for line in lines):\n",
        "        lines.insert(-1, 'USER appuser\\n')\n",
        "    with open(DOCKERFILE_PATH, 'w') as f:\n",
        "        f.writelines(lines)\n",
        "    print(f\"Updated {DOCKERFILE_PATH} with non-root user and health check.\")\n",
        "\n",
        "def update_docker_compose():\n",
        "    with open(DOCKER_COMPOSE_PATH, 'r') as f:\n",
        "        compose_data = yaml.safe_load(f)\n",
        "    for service in compose_data.get('services', {}).values():\n",
        "        service['mem_limit'] = '512m'\n",
        "        service['read_only'] = True\n",
        "        service['security_opt'] = ['no-new-privileges:true']\n",
        "        service['pids_limit'] = 100\n",
        "        if 'ports' in service:\n",
        "            for i, port in enumerate(service['ports']):\n",
        "                if port.startswith('0.0.0.0'):\n",
        "                    service['ports'][i] = port.replace('0.0.0.0', '127.0.0.1')\n",
        "    with open(DOCKER_COMPOSE_PATH, 'w') as f:\n",
        "        yaml.dump(compose_data, f)\n",
        "    print(f\"Updated {DOCKER_COMPOSE_PATH} with security settings.\")\n",
        "\n",
        "def main():\n",
        "    print(\"Applying Docker security fixes...\")\n",
        "    update_daemon_json()\n",
        "    update_dockerfile()\n",
        "    update_docker_compose()\n",
        "    print(\"Security fixes applied.\")\n",
        "\n",
        "main()\n"
      ]
    }
  ]
}